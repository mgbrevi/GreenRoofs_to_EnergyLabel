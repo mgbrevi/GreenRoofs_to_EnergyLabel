{
 "cells": [
  {
   "cell_type": "markdown",
   "metadata": {
    "id": "3ZSdxrQBM9N_"
   },
   "source": [
    "# Notebook with RF on Energy Label as target variable with unfiltered BAG on apartment level (which gives 6464 green roofs for random forest)"
   ]
  },
  {
   "cell_type": "code",
   "execution_count": 4,
   "metadata": {
    "colab": {
     "base_uri": "https://localhost:8080/"
    },
    "id": "b8mnSbZv2IVp",
    "outputId": "e9dd9cef-787a-44f8-8d7f-db53f15699c6"
   },
   "outputs": [
    {
     "name": "stdout",
     "output_type": "stream",
     "text": [
      "Requirement already satisfied: geopandas in /opt/anaconda3/lib/python3.12/site-packages (1.0.1)\n",
      "Requirement already satisfied: pyproj in /opt/anaconda3/lib/python3.12/site-packages (3.7.0)\n",
      "Requirement already satisfied: shapely in /opt/anaconda3/lib/python3.12/site-packages (2.0.6)\n",
      "Requirement already satisfied: fiona in /opt/anaconda3/lib/python3.12/site-packages (1.10.1)\n",
      "Requirement already satisfied: numpy>=1.22 in /opt/anaconda3/lib/python3.12/site-packages (from geopandas) (1.26.4)\n",
      "Requirement already satisfied: pyogrio>=0.7.2 in /opt/anaconda3/lib/python3.12/site-packages (from geopandas) (0.10.0)\n",
      "Requirement already satisfied: packaging in /opt/anaconda3/lib/python3.12/site-packages (from geopandas) (23.2)\n",
      "Requirement already satisfied: pandas>=1.4.0 in /opt/anaconda3/lib/python3.12/site-packages (from geopandas) (2.2.2)\n",
      "Requirement already satisfied: certifi in /opt/anaconda3/lib/python3.12/site-packages (from pyproj) (2025.4.26)\n",
      "Requirement already satisfied: attrs>=19.2.0 in /opt/anaconda3/lib/python3.12/site-packages (from fiona) (23.1.0)\n",
      "Requirement already satisfied: click~=8.0 in /opt/anaconda3/lib/python3.12/site-packages (from fiona) (8.1.7)\n",
      "Requirement already satisfied: click-plugins>=1.0 in /opt/anaconda3/lib/python3.12/site-packages (from fiona) (1.1.1)\n",
      "Requirement already satisfied: cligj>=0.5 in /opt/anaconda3/lib/python3.12/site-packages (from fiona) (0.7.2)\n",
      "Requirement already satisfied: python-dateutil>=2.8.2 in /opt/anaconda3/lib/python3.12/site-packages (from pandas>=1.4.0->geopandas) (2.9.0.post0)\n",
      "Requirement already satisfied: pytz>=2020.1 in /opt/anaconda3/lib/python3.12/site-packages (from pandas>=1.4.0->geopandas) (2024.1)\n",
      "Requirement already satisfied: tzdata>=2022.7 in /opt/anaconda3/lib/python3.12/site-packages (from pandas>=1.4.0->geopandas) (2023.3)\n",
      "Requirement already satisfied: six>=1.5 in /opt/anaconda3/lib/python3.12/site-packages (from python-dateutil>=2.8.2->pandas>=1.4.0->geopandas) (1.16.0)\n",
      "\n",
      "\u001b[1m[\u001b[0m\u001b[34;49mnotice\u001b[0m\u001b[1;39;49m]\u001b[0m\u001b[39;49m A new release of pip is available: \u001b[0m\u001b[31;49m25.0.1\u001b[0m\u001b[39;49m -> \u001b[0m\u001b[32;49m25.1.1\u001b[0m\n",
      "\u001b[1m[\u001b[0m\u001b[34;49mnotice\u001b[0m\u001b[1;39;49m]\u001b[0m\u001b[39;49m To update, run: \u001b[0m\u001b[32;49mpip install --upgrade pip\u001b[0m\n"
     ]
    }
   ],
   "source": [
    "!pip install geopandas pyproj shapely fiona"
   ]
  },
  {
   "cell_type": "code",
   "execution_count": 5,
   "metadata": {
    "id": "K0X11rnD2E4H"
   },
   "outputs": [],
   "source": [
    "import warnings\n",
    "import joblib\n",
    "import numpy as np\n",
    "import pandas as pd\n",
    "import geopandas as gpd\n",
    "import matplotlib.pyplot as plt\n",
    "import seaborn as sns\n",
    "\n",
    "from sklearn.model_selection import (\n",
    "    StratifiedKFold,\n",
    "    cross_val_score,\n",
    "    cross_val_predict,\n",
    "    GridSearchCV,\n",
    "    train_test_split\n",
    ")\n",
    "from sklearn.pipeline import Pipeline\n",
    "from sklearn.compose import ColumnTransformer\n",
    "from sklearn.impute import KNNImputer\n",
    "from sklearn.preprocessing import OneHotEncoder, StandardScaler, LabelEncoder\n",
    "from sklearn.metrics import (\n",
    "    accuracy_score,\n",
    "    f1_score,\n",
    "    classification_report,\n",
    "    confusion_matrix,\n",
    "    ConfusionMatrixDisplay\n",
    ")\n",
    "from sklearn.ensemble import (\n",
    "    RandomForestClassifier,\n",
    "    RandomForestRegressor,\n",
    "    VotingClassifier\n",
    ")\n",
    "from sklearn.utils import resample\n",
    "\n",
    "from imblearn.ensemble import BalancedBaggingClassifier\n",
    "from imblearn.over_sampling import SMOTE\n",
    "from imblearn.pipeline import Pipeline as ImbPipeline\n",
    "\n",
    "warnings.filterwarnings('ignore')"
   ]
  },
  {
   "cell_type": "code",
   "execution_count": null,
   "metadata": {},
   "outputs": [],
   "source": [
    "# This data file is not included in the repository due to size constraints\n",
    "# Replace the path below with your own local copy to run the notebook\n",
    "gdf = gpd.read_file('path/to/GR_unfiltered_energy_all_address.gpkg')"
   ]
  },
  {
   "cell_type": "markdown",
   "metadata": {
    "id": "wxxA5bIlbyA4"
   },
   "source": [
    "## Data checks"
   ]
  },
  {
   "cell_type": "code",
   "execution_count": 10,
   "metadata": {
    "colab": {
     "base_uri": "https://localhost:8080/"
    },
    "id": "jjq2ikLj2HXL",
    "outputId": "c289ebb9-44f7-4d64-8d18-01cd3b1bcc3e"
   },
   "outputs": [
    {
     "name": "stdout",
     "output_type": "stream",
     "text": [
      "459224\n"
     ]
    }
   ],
   "source": [
    "print(len(gdf))"
   ]
  },
  {
   "cell_type": "markdown",
   "metadata": {
    "id": "tiMStlLccesD"
   },
   "source": [
    "**Gebruiksdoel**\n",
    "\n",
    "\n",
    "Exploration of gebruiksdoel which are gonna link to different types of energy labels\n",
    "\n",
    "\n"
   ]
  },
  {
   "cell_type": "code",
   "execution_count": 12,
   "metadata": {
    "colab": {
     "base_uri": "https://localhost:8080/"
    },
    "id": "x4tVC88Ee2QV",
    "outputId": "bd451dcb-399e-4135-992b-7fcccc870716"
   },
   "outputs": [
    {
     "name": "stdout",
     "output_type": "stream",
     "text": [
      "['woonfunctie' 'logiesfunctie'\n",
      " 'industriefunctie,winkelfunctie,woonfunctie' 'kantoorfunctie,woonfunctie'\n",
      " 'bijeenkomstfunctie,onderwijsfunctie' 'bijeenkomstfunctie,sportfunctie'\n",
      " 'bijeenkomstfunctie,kantoorfunctie,woonfunctie'\n",
      " 'onderwijsfunctie,sportfunctie'\n",
      " 'onderwijsfunctie,overige gebruiksfunctie' 'onderwijsfunctie' None\n",
      " 'bijeenkomstfunctie' 'winkelfunctie,woonfunctie'\n",
      " 'industriefunctie,kantoorfunctie,overige gebruiksfunctie,winkelfunctie,woonfunctie'\n",
      " 'bijeenkomstfunctie,industriefunctie,woonfunctie'\n",
      " 'industriefunctie,overige gebruiksfunctie,woonfunctie'\n",
      " 'gezondheidszorgfunctie,kantoorfunctie,onderwijsfunctie,overige gebruiksfunctie,woonfunctie'\n",
      " 'bijeenkomstfunctie,overige gebruiksfunctie,woonfunctie' 'kantoorfunctie'\n",
      " 'overige gebruiksfunctie,sportfunctie,woonfunctie'\n",
      " 'industriefunctie,overige gebruiksfunctie'\n",
      " 'kantoorfunctie,overige gebruiksfunctie,woonfunctie'\n",
      " 'bijeenkomstfunctie,industriefunctie,kantoorfunctie,onderwijsfunctie,overige gebruiksfunctie,winkelfunctie,woonfunctie'\n",
      " 'overige gebruiksfunctie,woonfunctie'\n",
      " 'kantoorfunctie,overige gebruiksfunctie' 'bijeenkomstfunctie,woonfunctie'\n",
      " 'bijeenkomstfunctie,kantoorfunctie,onderwijsfunctie,overige gebruiksfunctie'\n",
      " 'industriefunctie,kantoorfunctie,overige gebruiksfunctie,woonfunctie'\n",
      " 'sportfunctie,woonfunctie'\n",
      " 'logiesfunctie,overige gebruiksfunctie,woonfunctie' 'winkelfunctie'\n",
      " 'logiesfunctie,overige gebruiksfunctie,winkelfunctie,woonfunctie'\n",
      " 'bijeenkomstfunctie,logiesfunctie,woonfunctie' 'overige gebruiksfunctie'\n",
      " 'bijeenkomstfunctie,industriefunctie,kantoorfunctie,overige gebruiksfunctie'\n",
      " 'overige gebruiksfunctie,winkelfunctie,woonfunctie'\n",
      " 'gezondheidszorgfunctie,overige gebruiksfunctie,winkelfunctie,woonfunctie'\n",
      " 'industriefunctie,kantoorfunctie,woonfunctie'\n",
      " 'industriefunctie,woonfunctie'\n",
      " 'bijeenkomstfunctie,logiesfunctie,overige gebruiksfunctie'\n",
      " 'industriefunctie,onderwijsfunctie,woonfunctie'\n",
      " 'industriefunctie,kantoorfunctie,winkelfunctie,woonfunctie'\n",
      " 'gezondheidszorgfunctie'\n",
      " 'bijeenkomstfunctie,industriefunctie,overige gebruiksfunctie,woonfunctie'\n",
      " 'bijeenkomstfunctie,kantoorfunctie,overige gebruiksfunctie,sportfunctie,winkelfunctie'\n",
      " 'gezondheidszorgfunctie,woonfunctie'\n",
      " 'onderwijsfunctie,overige gebruiksfunctie,woonfunctie'\n",
      " 'bijeenkomstfunctie,kantoorfunctie,overige gebruiksfunctie,winkelfunctie'\n",
      " 'bijeenkomstfunctie,kantoorfunctie,overige gebruiksfunctie'\n",
      " 'kantoorfunctie,onderwijsfunctie,overige gebruiksfunctie'\n",
      " 'bijeenkomstfunctie,overige gebruiksfunctie,winkelfunctie,woonfunctie'\n",
      " 'bijeenkomstfunctie,kantoorfunctie,logiesfunctie,sportfunctie'\n",
      " 'bijeenkomstfunctie,gezondheidszorgfunctie,overige gebruiksfunctie,winkelfunctie'\n",
      " 'bijeenkomstfunctie,kantoorfunctie'\n",
      " 'bijeenkomstfunctie,gezondheidszorgfunctie'\n",
      " 'gezondheidszorgfunctie,kantoorfunctie'\n",
      " 'gezondheidszorgfunctie,kantoorfunctie,woonfunctie' 'industriefunctie'\n",
      " 'kantoorfunctie,overige gebruiksfunctie,winkelfunctie,woonfunctie'\n",
      " 'bijeenkomstfunctie,kantoorfunctie,logiesfunctie,overige gebruiksfunctie,winkelfunctie,woonfunctie'\n",
      " 'bijeenkomstfunctie,kantoorfunctie,sportfunctie'\n",
      " 'industriefunctie,kantoorfunctie,overige gebruiksfunctie'\n",
      " 'onderwijsfunctie,woonfunctie'\n",
      " 'bijeenkomstfunctie,kantoorfunctie,overige gebruiksfunctie,sportfunctie,winkelfunctie,woonfunctie'\n",
      " 'onderwijsfunctie,overige gebruiksfunctie,sportfunctie'\n",
      " 'gezondheidszorgfunctie,industriefunctie,winkelfunctie,woonfunctie'\n",
      " 'bijeenkomstfunctie,logiesfunctie,sportfunctie,winkelfunctie'\n",
      " 'bijeenkomstfunctie,onderwijsfunctie,sportfunctie'\n",
      " 'bijeenkomstfunctie,logiesfunctie,overige gebruiksfunctie,winkelfunctie'\n",
      " 'bijeenkomstfunctie,industriefunctie' 'kantoorfunctie,onderwijsfunctie'\n",
      " 'bijeenkomstfunctie,logiesfunctie,onderwijsfunctie,overige gebruiksfunctie,woonfunctie'\n",
      " 'kantoorfunctie,winkelfunctie,woonfunctie' 'kantoorfunctie,winkelfunctie'\n",
      " 'sportfunctie' 'bijeenkomstfunctie,overige gebruiksfunctie,winkelfunctie'\n",
      " 'industriefunctie,kantoorfunctie'\n",
      " 'onderwijsfunctie,sportfunctie,woonfunctie'\n",
      " 'industriefunctie,winkelfunctie'\n",
      " 'bijeenkomstfunctie,kantoorfunctie,winkelfunctie,woonfunctie'\n",
      " 'kantoorfunctie,overige gebruiksfunctie,winkelfunctie'\n",
      " 'bijeenkomstfunctie,kantoorfunctie,logiesfunctie,winkelfunctie'\n",
      " 'bijeenkomstfunctie,gezondheidszorgfunctie,onderwijsfunctie'\n",
      " 'bijeenkomstfunctie,kantoorfunctie,logiesfunctie,overige gebruiksfunctie'\n",
      " 'bijeenkomstfunctie,winkelfunctie,woonfunctie'\n",
      " 'kantoorfunctie,onderwijsfunctie,woonfunctie'\n",
      " 'kantoorfunctie,onderwijsfunctie,winkelfunctie'\n",
      " 'bijeenkomstfunctie,industriefunctie,overige gebruiksfunctie,sportfunctie,winkelfunctie'\n",
      " 'bijeenkomstfunctie,gezondheidszorgfunctie,industriefunctie,kantoorfunctie,overige gebruiksfunctie,winkelfunctie,woonfunctie'\n",
      " 'bijeenkomstfunctie,logiesfunctie,sportfunctie'\n",
      " 'bijeenkomstfunctie,gezondheidszorgfunctie,kantoorfunctie,winkelfunctie,woonfunctie'\n",
      " 'kantoorfunctie,sportfunctie,winkelfunctie'\n",
      " 'gezondheidszorgfunctie,onderwijsfunctie'\n",
      " 'bijeenkomstfunctie,industriefunctie,kantoorfunctie'\n",
      " 'gezondheidszorgfunctie,industriefunctie,overige gebruiksfunctie,woonfunctie'\n",
      " 'bijeenkomstfunctie,overige gebruiksfunctie,sportfunctie,winkelfunctie,woonfunctie'\n",
      " 'bijeenkomstfunctie,kantoorfunctie,overige gebruiksfunctie,woonfunctie'\n",
      " 'bijeenkomstfunctie,kantoorfunctie,winkelfunctie'\n",
      " 'industriefunctie,kantoorfunctie,onderwijsfunctie'\n",
      " 'industriefunctie,sportfunctie,woonfunctie'\n",
      " 'kantoorfunctie,logiesfunctie,overige gebruiksfunctie,winkelfunctie,woonfunctie'\n",
      " 'bijeenkomstfunctie,winkelfunctie'\n",
      " 'bijeenkomstfunctie,kantoorfunctie,logiesfunctie'\n",
      " 'overige gebruiksfunctie,winkelfunctie'\n",
      " 'bijeenkomstfunctie,kantoorfunctie,onderwijsfunctie,sportfunctie'\n",
      " 'bijeenkomstfunctie,industriefunctie,kantoorfunctie,woonfunctie'\n",
      " 'bijeenkomstfunctie,kantoorfunctie,onderwijsfunctie'\n",
      " 'kantoorfunctie,sportfunctie' 'sportfunctie,winkelfunctie,woonfunctie'\n",
      " 'logiesfunctie,winkelfunctie,woonfunctie'\n",
      " 'bijeenkomstfunctie,gezondheidszorgfunctie,woonfunctie'\n",
      " 'gezondheidszorgfunctie,sportfunctie,winkelfunctie'\n",
      " 'bijeenkomstfunctie,logiesfunctie' 'celfunctie,woonfunctie'\n",
      " 'bijeenkomstfunctie,industriefunctie,kantoorfunctie,sportfunctie,winkelfunctie,woonfunctie'\n",
      " 'bijeenkomstfunctie,industriefunctie,kantoorfunctie,overige gebruiksfunctie,winkelfunctie'\n",
      " 'industriefunctie,kantoorfunctie,sportfunctie,woonfunctie'\n",
      " 'bijeenkomstfunctie,kantoorfunctie,logiesfunctie,overige gebruiksfunctie,winkelfunctie'\n",
      " 'bijeenkomstfunctie,gezondheidszorgfunctie,kantoorfunctie,overige gebruiksfunctie,woonfunctie'\n",
      " 'bijeenkomstfunctie,industriefunctie,kantoorfunctie,onderwijsfunctie,overige gebruiksfunctie,sportfunctie,woonfunctie'\n",
      " 'bijeenkomstfunctie,gezondheidszorgfunctie,logiesfunctie'\n",
      " 'bijeenkomstfunctie,kantoorfunctie,onderwijsfunctie,overige gebruiksfunctie,sportfunctie,winkelfunctie,woonfunctie'\n",
      " 'gezondheidszorgfunctie,industriefunctie,woonfunctie'\n",
      " 'bijeenkomstfunctie,logiesfunctie,winkelfunctie,woonfunctie'\n",
      " 'bijeenkomstfunctie,industriefunctie,winkelfunctie,woonfunctie'\n",
      " 'industriefunctie,overige gebruiksfunctie,winkelfunctie,woonfunctie'\n",
      " 'bijeenkomstfunctie,gezondheidszorgfunctie,winkelfunctie,woonfunctie'\n",
      " 'bijeenkomstfunctie,overige gebruiksfunctie'\n",
      " 'bijeenkomstfunctie,industriefunctie,overige gebruiksfunctie,winkelfunctie,woonfunctie'\n",
      " 'bijeenkomstfunctie,gezondheidszorgfunctie,sportfunctie,woonfunctie'\n",
      " 'bijeenkomstfunctie,sportfunctie,woonfunctie'\n",
      " 'bijeenkomstfunctie,industriefunctie,kantoorfunctie,overige gebruiksfunctie,woonfunctie'\n",
      " 'kantoorfunctie,overige gebruiksfunctie,sportfunctie'\n",
      " 'bijeenkomstfunctie,kantoorfunctie,onderwijsfunctie,overige gebruiksfunctie,winkelfunctie,woonfunctie'\n",
      " 'bijeenkomstfunctie,onderwijsfunctie,winkelfunctie,woonfunctie'\n",
      " 'kantoorfunctie,overige gebruiksfunctie,sportfunctie,woonfunctie'\n",
      " 'gezondheidszorgfunctie,overige gebruiksfunctie,woonfunctie'\n",
      " 'bijeenkomstfunctie,gezondheidszorgfunctie,kantoorfunctie,overige gebruiksfunctie,winkelfunctie,woonfunctie'\n",
      " 'bijeenkomstfunctie,gezondheidszorgfunctie,kantoorfunctie,woonfunctie'\n",
      " 'bijeenkomstfunctie,industriefunctie,kantoorfunctie,logiesfunctie,overige gebruiksfunctie,sportfunctie'\n",
      " 'bijeenkomstfunctie,industriefunctie,winkelfunctie'\n",
      " 'bijeenkomstfunctie,kantoorfunctie,overige gebruiksfunctie,sportfunctie'\n",
      " 'bijeenkomstfunctie,kantoorfunctie,sportfunctie,winkelfunctie'\n",
      " 'bijeenkomstfunctie,gezondheidszorgfunctie,kantoorfunctie,onderwijsfunctie,woonfunctie'\n",
      " 'logiesfunctie,woonfunctie'\n",
      " 'bijeenkomstfunctie,industriefunctie,onderwijsfunctie,overige gebruiksfunctie'\n",
      " 'kantoorfunctie,onderwijsfunctie,overige gebruiksfunctie,winkelfunctie,woonfunctie'\n",
      " 'bijeenkomstfunctie,kantoorfunctie,sportfunctie,woonfunctie'\n",
      " 'kantoorfunctie,sportfunctie,woonfunctie'\n",
      " 'gezondheidszorgfunctie,kantoorfunctie,logiesfunctie,overige gebruiksfunctie,winkelfunctie,woonfunctie'\n",
      " 'bijeenkomstfunctie,kantoorfunctie,logiesfunctie,woonfunctie'\n",
      " 'gezondheidszorgfunctie,winkelfunctie'\n",
      " 'gezondheidszorgfunctie,kantoorfunctie,winkelfunctie,woonfunctie'\n",
      " 'bijeenkomstfunctie,gezondheidszorgfunctie,overige gebruiksfunctie,winkelfunctie,woonfunctie'\n",
      " 'bijeenkomstfunctie,overige gebruiksfunctie,sportfunctie,woonfunctie'\n",
      " 'gezondheidszorgfunctie,industriefunctie,kantoorfunctie,overige gebruiksfunctie'\n",
      " 'gezondheidszorgfunctie,industriefunctie,kantoorfunctie,winkelfunctie,woonfunctie'\n",
      " 'kantoorfunctie,logiesfunctie' 'industriefunctie,logiesfunctie'\n",
      " 'gezondheidszorgfunctie,industriefunctie,kantoorfunctie,woonfunctie'\n",
      " 'bijeenkomstfunctie,industriefunctie,kantoorfunctie,sportfunctie,winkelfunctie'\n",
      " 'bijeenkomstfunctie,industriefunctie,kantoorfunctie,logiesfunctie'\n",
      " 'industriefunctie,sportfunctie'\n",
      " 'industriefunctie,kantoorfunctie,logiesfunctie,woonfunctie'\n",
      " 'bijeenkomstfunctie,onderwijsfunctie,woonfunctie'\n",
      " 'bijeenkomstfunctie,sportfunctie,winkelfunctie'\n",
      " 'bijeenkomstfunctie,kantoorfunctie,logiesfunctie,overige gebruiksfunctie,sportfunctie,winkelfunctie'\n",
      " 'bijeenkomstfunctie,industriefunctie,kantoorfunctie,winkelfunctie,woonfunctie'\n",
      " 'gezondheidszorgfunctie,winkelfunctie,woonfunctie'\n",
      " 'bijeenkomstfunctie,gezondheidszorgfunctie,kantoorfunctie,logiesfunctie,overige gebruiksfunctie,woonfunctie'\n",
      " 'industriefunctie,logiesfunctie,woonfunctie'\n",
      " 'industriefunctie,overige gebruiksfunctie,sportfunctie'\n",
      " 'industriefunctie,kantoorfunctie,winkelfunctie'\n",
      " 'bijeenkomstfunctie,kantoorfunctie,overige gebruiksfunctie,winkelfunctie,woonfunctie'\n",
      " 'gezondheidszorgfunctie,kantoorfunctie,overige gebruiksfunctie,winkelfunctie,woonfunctie'\n",
      " 'bijeenkomstfunctie,kantoorfunctie,sportfunctie,winkelfunctie,woonfunctie'\n",
      " 'industriefunctie,overige gebruiksfunctie,winkelfunctie'\n",
      " 'gezondheidszorgfunctie,kantoorfunctie,overige gebruiksfunctie,woonfunctie'\n",
      " 'gezondheidszorgfunctie,overige gebruiksfunctie'\n",
      " 'bijeenkomstfunctie,gezondheidszorgfunctie,industriefunctie,kantoorfunctie,winkelfunctie,woonfunctie'\n",
      " 'kantoorfunctie,onderwijsfunctie,sportfunctie,woonfunctie'\n",
      " 'bijeenkomstfunctie,industriefunctie,overige gebruiksfunctie'\n",
      " 'bijeenkomstfunctie,gezondheidszorgfunctie,kantoorfunctie'\n",
      " 'industriefunctie,kantoorfunctie,logiesfunctie'\n",
      " 'kantoorfunctie,logiesfunctie,sportfunctie'\n",
      " 'gezondheidszorgfunctie,kantoorfunctie,logiesfunctie,woonfunctie'\n",
      " 'logiesfunctie,overige gebruiksfunctie'\n",
      " 'gezondheidszorgfunctie,logiesfunctie,woonfunctie'\n",
      " 'bijeenkomstfunctie,industriefunctie,overige gebruiksfunctie,winkelfunctie'\n",
      " 'bijeenkomstfunctie,logiesfunctie,onderwijsfunctie,woonfunctie'\n",
      " 'gezondheidszorgfunctie,sportfunctie,woonfunctie'\n",
      " 'gezondheidszorgfunctie,industriefunctie'\n",
      " 'industriefunctie,overige gebruiksfunctie,sportfunctie,winkelfunctie,woonfunctie'\n",
      " 'logiesfunctie,winkelfunctie'\n",
      " 'kantoorfunctie,logiesfunctie,overige gebruiksfunctie'\n",
      " 'industriefunctie,onderwijsfunctie,overige gebruiksfunctie'\n",
      " 'bijeenkomstfunctie,onderwijsfunctie,overige gebruiksfunctie'\n",
      " 'gezondheidszorgfunctie,industriefunctie,kantoorfunctie,logiesfunctie,woonfunctie'\n",
      " 'gezondheidszorgfunctie,logiesfunctie,sportfunctie,woonfunctie'\n",
      " 'kantoorfunctie,logiesfunctie,woonfunctie'\n",
      " 'gezondheidszorgfunctie,onderwijsfunctie,overige gebruiksfunctie,woonfunctie'\n",
      " 'bijeenkomstfunctie,industriefunctie,kantoorfunctie,overige gebruiksfunctie,winkelfunctie,woonfunctie'\n",
      " 'bijeenkomstfunctie,industriefunctie,kantoorfunctie,logiesfunctie,onderwijsfunctie,sportfunctie'\n",
      " 'bijeenkomstfunctie,onderwijsfunctie,sportfunctie,woonfunctie'\n",
      " 'kantoorfunctie,onderwijsfunctie,overige gebruiksfunctie,sportfunctie,woonfunctie'\n",
      " 'industriefunctie,onderwijsfunctie'\n",
      " 'bijeenkomstfunctie,industriefunctie,kantoorfunctie,logiesfunctie,overige gebruiksfunctie,winkelfunctie,woonfunctie'\n",
      " 'gezondheidszorgfunctie,kantoorfunctie,sportfunctie,woonfunctie'\n",
      " 'bijeenkomstfunctie,kantoorfunctie,overige gebruiksfunctie,sportfunctie,woonfunctie'\n",
      " 'celfunctie'\n",
      " 'bijeenkomstfunctie,gezondheidszorgfunctie,overige gebruiksfunctie,woonfunctie'\n",
      " 'bijeenkomstfunctie,gezondheidszorgfunctie,kantoorfunctie,overige gebruiksfunctie'\n",
      " 'industriefunctie,sportfunctie,winkelfunctie,woonfunctie'\n",
      " 'gezondheidszorgfunctie,industriefunctie,kantoorfunctie,onderwijsfunctie,overige gebruiksfunctie,winkelfunctie,woonfunctie'\n",
      " 'kantoorfunctie,overige gebruiksfunctie,sportfunctie,winkelfunctie,woonfunctie'\n",
      " 'bijeenkomstfunctie,gezondheidszorgfunctie,industriefunctie,overige gebruiksfunctie,winkelfunctie,woonfunctie'\n",
      " 'bijeenkomstfunctie,gezondheidszorgfunctie,overige gebruiksfunctie,sportfunctie,woonfunctie'\n",
      " 'bijeenkomstfunctie,kantoorfunctie,onderwijsfunctie,sportfunctie,winkelfunctie,woonfunctie'\n",
      " 'industriefunctie,kantoorfunctie,overige gebruiksfunctie,sportfunctie,woonfunctie'\n",
      " 'bijeenkomstfunctie,celfunctie,sportfunctie,winkelfunctie,woonfunctie'\n",
      " 'bijeenkomstfunctie,gezondheidszorgfunctie,industriefunctie,overige gebruiksfunctie,woonfunctie'\n",
      " 'gezondheidszorgfunctie,kantoorfunctie,winkelfunctie'\n",
      " 'onderwijsfunctie,winkelfunctie' 'celfunctie,kantoorfunctie'\n",
      " 'bijeenkomstfunctie,logiesfunctie,onderwijsfunctie'\n",
      " 'bijeenkomstfunctie,kantoorfunctie,logiesfunctie,onderwijsfunctie,overige gebruiksfunctie,winkelfunctie,woonfunctie'\n",
      " 'gezondheidszorgfunctie,logiesfunctie,overige gebruiksfunctie'\n",
      " 'bijeenkomstfunctie,logiesfunctie,winkelfunctie'\n",
      " 'bijeenkomstfunctie,kantoorfunctie,logiesfunctie,winkelfunctie,woonfunctie'\n",
      " 'bijeenkomstfunctie,kantoorfunctie,onderwijsfunctie,overige gebruiksfunctie,woonfunctie'\n",
      " 'bijeenkomstfunctie,industriefunctie,kantoorfunctie,onderwijsfunctie,woonfunctie'\n",
      " 'bijeenkomstfunctie,overige gebruiksfunctie,sportfunctie'\n",
      " 'bijeenkomstfunctie,logiesfunctie,overige gebruiksfunctie,woonfunctie'\n",
      " 'kantoorfunctie,onderwijsfunctie,winkelfunctie,woonfunctie'\n",
      " 'gezondheidszorgfunctie,industriefunctie,sportfunctie'\n",
      " 'bijeenkomstfunctie,onderwijsfunctie,overige gebruiksfunctie,woonfunctie'\n",
      " 'bijeenkomstfunctie,industriefunctie,kantoorfunctie,logiesfunctie,overige gebruiksfunctie'\n",
      " 'bijeenkomstfunctie,kantoorfunctie,onderwijsfunctie,woonfunctie'\n",
      " 'gezondheidszorgfunctie,kantoorfunctie,overige gebruiksfunctie'\n",
      " 'celfunctie,kantoorfunctie,overige gebruiksfunctie'\n",
      " 'kantoorfunctie,logiesfunctie,overige gebruiksfunctie,woonfunctie'\n",
      " 'industriefunctie,kantoorfunctie,overige gebruiksfunctie,winkelfunctie'\n",
      " 'bijeenkomstfunctie,onderwijsfunctie,winkelfunctie'\n",
      " 'gezondheidszorgfunctie,industriefunctie,kantoorfunctie'\n",
      " 'bijeenkomstfunctie,industriefunctie,kantoorfunctie,onderwijsfunctie,winkelfunctie,woonfunctie'\n",
      " 'bijeenkomstfunctie,industriefunctie,kantoorfunctie,overige gebruiksfunctie,sportfunctie'\n",
      " 'logiesfunctie,overige gebruiksfunctie,winkelfunctie'\n",
      " 'gezondheidszorgfunctie,kantoorfunctie,overige gebruiksfunctie,sportfunctie,winkelfunctie,woonfunctie'\n",
      " 'bijeenkomstfunctie,kantoorfunctie,logiesfunctie,overige gebruiksfunctie,woonfunctie'\n",
      " 'gezondheidszorgfunctie,industriefunctie,overige gebruiksfunctie,winkelfunctie,woonfunctie'\n",
      " 'bijeenkomstfunctie,gezondheidszorgfunctie,onderwijsfunctie,overige gebruiksfunctie'\n",
      " 'gezondheidszorgfunctie,kantoorfunctie,onderwijsfunctie,overige gebruiksfunctie'\n",
      " 'bijeenkomstfunctie,kantoorfunctie,onderwijsfunctie,overige gebruiksfunctie,sportfunctie,woonfunctie'\n",
      " 'industriefunctie,overige gebruiksfunctie,sportfunctie,woonfunctie'\n",
      " 'bijeenkomstfunctie,gezondheidszorgfunctie,onderwijsfunctie,woonfunctie'\n",
      " 'logiesfunctie,sportfunctie,woonfunctie'\n",
      " 'bijeenkomstfunctie,onderwijsfunctie,overige gebruiksfunctie,sportfunctie'\n",
      " 'bijeenkomstfunctie,gezondheidszorgfunctie,onderwijsfunctie,overige gebruiksfunctie,woonfunctie'\n",
      " 'bijeenkomstfunctie,onderwijsfunctie,overige gebruiksfunctie,sportfunctie,woonfunctie'\n",
      " 'bijeenkomstfunctie,logiesfunctie,overige gebruiksfunctie,sportfunctie'\n",
      " 'onderwijsfunctie,winkelfunctie,woonfunctie'\n",
      " 'bijeenkomstfunctie,gezondheidszorgfunctie,kantoorfunctie,logiesfunctie,overige gebruiksfunctie,sportfunctie,winkelfunctie,woonfunctie'\n",
      " 'logiesfunctie,overige gebruiksfunctie,sportfunctie,winkelfunctie,woonfunctie'\n",
      " 'bijeenkomstfunctie,kantoorfunctie,onderwijsfunctie,overige gebruiksfunctie,winkelfunctie'\n",
      " 'logiesfunctie,overige gebruiksfunctie,sportfunctie'\n",
      " 'overige gebruiksfunctie,sportfunctie'\n",
      " 'bijeenkomstfunctie,industriefunctie,kantoorfunctie,winkelfunctie'\n",
      " 'overige gebruiksfunctie,sportfunctie,winkelfunctie,woonfunctie'\n",
      " 'bijeenkomstfunctie,kantoorfunctie,onderwijsfunctie,winkelfunctie'\n",
      " 'industriefunctie,kantoorfunctie,onderwijsfunctie,overige gebruiksfunctie'\n",
      " 'bijeenkomstfunctie,gezondheidszorgfunctie,kantoorfunctie,sportfunctie,woonfunctie'\n",
      " 'industriefunctie,onderwijsfunctie,overige gebruiksfunctie,woonfunctie'\n",
      " 'bijeenkomstfunctie,logiesfunctie,overige gebruiksfunctie,sportfunctie,winkelfunctie,woonfunctie'\n",
      " 'bijeenkomstfunctie,kantoorfunctie,logiesfunctie,overige gebruiksfunctie,sportfunctie'\n",
      " 'bijeenkomstfunctie,celfunctie,industriefunctie,kantoorfunctie,overige gebruiksfunctie,sportfunctie']\n"
     ]
    }
   ],
   "source": [
    "unique_values = gdf['gebruiksdoel'].unique()\n",
    "print(unique_values)"
   ]
  },
  {
   "cell_type": "code",
   "execution_count": 13,
   "metadata": {
    "colab": {
     "base_uri": "https://localhost:8080/"
    },
    "id": "Qnbj5wZcimIS",
    "outputId": "3c9b5875-ff91-4149-88a1-69c1495b3f44"
   },
   "outputs": [
    {
     "name": "stdout",
     "output_type": "stream",
     "text": [
      "['bijeenkomstfunctie', 'celfunctie', 'gezondheidszorgfunctie', 'industriefunctie', 'kantoorfunctie', 'logiesfunctie', 'onderwijsfunctie', 'overige gebruiksfunctie', 'sportfunctie', 'winkelfunctie', 'woonfunctie']\n"
     ]
    }
   ],
   "source": [
    "#unique combinations?\n",
    "unique_combinations = gdf['gebruiksdoel'].dropna().unique()\n",
    "\n",
    "#split all combinations into individual words and flatten the list\n",
    "all_words = [item.strip() for combo in unique_combinations for item in combo.split(',')]\n",
    "\n",
    "#get the unique individual words\n",
    "unique_words = sorted(set(all_words))\n",
    "\n",
    "#display the result\n",
    "print(unique_words)\n"
   ]
  },
  {
   "cell_type": "code",
   "execution_count": 14,
   "metadata": {
    "colab": {
     "base_uri": "https://localhost:8080/"
    },
    "id": "FilY38T7Zome",
    "outputId": "6ce62436-0175-4268-cae4-04dc03856c27"
   },
   "outputs": [
    {
     "name": "stdout",
     "output_type": "stream",
     "text": [
      "gebruiksdoel\n",
      "bijeenkomstfunctie                                                                                                               1111\n",
      "bijeenkomstfunctie,celfunctie,industriefunctie,kantoorfunctie,overige gebruiksfunctie,sportfunctie                                  1\n",
      "bijeenkomstfunctie,celfunctie,sportfunctie,winkelfunctie,woonfunctie                                                              291\n",
      "bijeenkomstfunctie,gezondheidszorgfunctie                                                                                          11\n",
      "bijeenkomstfunctie,gezondheidszorgfunctie,industriefunctie,kantoorfunctie,overige gebruiksfunctie,winkelfunctie,woonfunctie       151\n",
      "                                                                                                                                ...  \n",
      "sportfunctie,winkelfunctie,woonfunctie                                                                                             95\n",
      "sportfunctie,woonfunctie                                                                                                          424\n",
      "winkelfunctie                                                                                                                    1060\n",
      "winkelfunctie,woonfunctie                                                                                                       18923\n",
      "woonfunctie                                                                                                                    226237\n",
      "Name: count, Length: 274, dtype: int64\n",
      "Missing values in 'gebruiksdoel': 54102\n"
     ]
    }
   ],
   "source": [
    "print(gdf['gebruiksdoel'].value_counts().sort_index())\n",
    "\n",
    "missing_values = gdf['gebruiksdoel'].isna().sum()\n",
    "print(f\"Missing values in 'gebruiksdoel': {missing_values}\")"
   ]
  },
  {
   "cell_type": "markdown",
   "metadata": {
    "id": "egdhko0zb4Zk"
   },
   "source": [
    "**Energy label**"
   ]
  },
  {
   "cell_type": "code",
   "execution_count": 16,
   "metadata": {
    "colab": {
     "base_uri": "https://localhost:8080/"
    },
    "id": "irYUmVLdb7v4",
    "outputId": "1da585c2-67ec-48fe-aec2-8a416d996473"
   },
   "outputs": [
    {
     "name": "stdout",
     "output_type": "stream",
     "text": [
      "Energielabel\n",
      "A         117279\n",
      "A+         17865\n",
      "A++         9433\n",
      "A+++        4096\n",
      "A++++        624\n",
      "A+++++        32\n",
      "B          52066\n",
      "C          77271\n",
      "D          42691\n",
      "E          21274\n",
      "F          10432\n",
      "G          12088\n",
      "Name: count, dtype: int64\n",
      "Missing values in 'Energielabel': 94073\n"
     ]
    }
   ],
   "source": [
    "print(gdf['Energielabel'].value_counts().sort_index())\n",
    "\n",
    "missing_values = gdf['Energielabel'].isna().sum()\n",
    "print(f\"Missing values in 'Energielabel': {missing_values}\")"
   ]
  },
  {
   "cell_type": "markdown",
   "metadata": {
    "id": "3tw7jD5NdFB5"
   },
   "source": [
    "**Already Green Roof**"
   ]
  },
  {
   "cell_type": "code",
   "execution_count": 18,
   "metadata": {
    "colab": {
     "base_uri": "https://localhost:8080/"
    },
    "id": "eS3x52K8dEvA",
    "outputId": "9dbead03-dc75-478b-84a6-157f6731620c"
   },
   "outputs": [
    {
     "name": "stdout",
     "output_type": "stream",
     "text": [
      "already_GR\n",
      "0    452616\n",
      "1      6608\n",
      "Name: count, dtype: int64\n"
     ]
    }
   ],
   "source": [
    "print(gdf['already_GR'].value_counts().sort_index())"
   ]
  },
  {
   "cell_type": "markdown",
   "metadata": {
    "id": "ut04AAIr3bda"
   },
   "source": [
    "**Insulated Roof**\n",
    "\n",
    "Create a variable that indicated wheather a roof is insulated or not. Above (an including) C roofs are insulated"
   ]
  },
  {
   "cell_type": "code",
   "execution_count": 20,
   "metadata": {
    "colab": {
     "base_uri": "https://localhost:8080/"
    },
    "id": "CMUiUTXh-Pbp",
    "outputId": "4070cdab-26e9-42a9-a6b5-cbab062f6029"
   },
   "outputs": [
    {
     "name": "stdout",
     "output_type": "stream",
     "text": [
      "  Energielabel  Roof_insulation\n",
      "0         None              NaN\n",
      "1         None              NaN\n",
      "2         None              NaN\n",
      "3         None              NaN\n",
      "4            A              1.0\n"
     ]
    }
   ],
   "source": [
    "def classify_roof_insulation(label):\n",
    "    if pd.isna(label):\n",
    "        return np.nan\n",
    "    elif label.upper() in ['A+++++','A++++', 'A+++', 'A++','A+', 'A', 'B', 'C']:\n",
    "        return 1\n",
    "    elif label.upper() in ['D', 'E', 'F', 'G']:\n",
    "        return 0\n",
    "    else:\n",
    "        return np.nan\n",
    "\n",
    "#apply the function to create the new column\n",
    "gdf['Roof_insulation'] = gdf['Energielabel'].apply(classify_roof_insulation)\n",
    "\n",
    "print(gdf[['Energielabel', 'Roof_insulation']].head())\n"
   ]
  },
  {
   "cell_type": "code",
   "execution_count": 21,
   "metadata": {
    "colab": {
     "base_uri": "https://localhost:8080/"
    },
    "id": "QEHeMduHARvC",
    "outputId": "2aacad0c-d72f-4bcf-803f-f684b9155f8c"
   },
   "outputs": [
    {
     "name": "stdout",
     "output_type": "stream",
     "text": [
      "Roof_insulation\n",
      "1.0    278666\n",
      "NaN     94073\n",
      "0.0     86485\n",
      "Name: count, dtype: int64\n"
     ]
    }
   ],
   "source": [
    "print(gdf['Roof_insulation'].value_counts(dropna=False))"
   ]
  },
  {
   "cell_type": "markdown",
   "metadata": {
    "id": "qkpSYC-j0Es3"
   },
   "source": [
    "# ENERGY CLASSIFICATION from RVO"
   ]
  },
  {
   "cell_type": "code",
   "execution_count": null,
   "metadata": {
    "colab": {
     "base_uri": "https://localhost:8080/",
     "height": 486
    },
    "id": "Zww__7MO37-R",
    "outputId": "ee1319be-1c12-4a77-f206-cc08b482736e"
   },
   "outputs": [
    {
     "data": {
      "text/html": [
       "<div>\n",
       "<style scoped>\n",
       "    .dataframe tbody tr th:only-of-type {\n",
       "        vertical-align: middle;\n",
       "    }\n",
       "\n",
       "    .dataframe tbody tr th {\n",
       "        vertical-align: top;\n",
       "    }\n",
       "\n",
       "    .dataframe thead th {\n",
       "        text-align: right;\n",
       "    }\n",
       "</style>\n",
       "<table border=\"1\" class=\"dataframe\">\n",
       "  <thead>\n",
       "    <tr style=\"text-align: right;\">\n",
       "      <th></th>\n",
       "      <th>Letter of Lettercombinatie</th>\n",
       "      <th>Woning</th>\n",
       "      <th>Kantoor</th>\n",
       "      <th>Bijeenkomst zonder kinderdagverblijf</th>\n",
       "      <th>Bijeenkomst met kinderdagverblijf</th>\n",
       "      <th>Onderwijs</th>\n",
       "      <th>Zorg zonder bed</th>\n",
       "      <th>Zorg met bed</th>\n",
       "      <th>Winkel</th>\n",
       "      <th>Sport</th>\n",
       "      <th>Logies</th>\n",
       "      <th>Cel</th>\n",
       "    </tr>\n",
       "  </thead>\n",
       "  <tbody>\n",
       "    <tr>\n",
       "      <th>0</th>\n",
       "      <td>A+++++</td>\n",
       "      <td>NaN</td>\n",
       "      <td>Kleiner of gelijk aan 0,00</td>\n",
       "      <td>Kleiner of gelijk aan 0,00</td>\n",
       "      <td>Kleiner of gelijk aan 0,00</td>\n",
       "      <td>Kleiner of gelijk aan 0,00</td>\n",
       "      <td>Kleiner of gelijk aan 0,00</td>\n",
       "      <td>Kleiner of gelijk aan 0,00</td>\n",
       "      <td>Kleiner of gelijk aan 0,00</td>\n",
       "      <td>Kleiner of gelijk aan 0,00</td>\n",
       "      <td>Kleiner of gelijk aan 0,00</td>\n",
       "      <td>Kleiner of gelijk aan 0,00</td>\n",
       "    </tr>\n",
       "    <tr>\n",
       "      <th>1</th>\n",
       "      <td>A++++</td>\n",
       "      <td>Kleiner of gelijk aan 0,00</td>\n",
       "      <td>0,01 t/m 40,00</td>\n",
       "      <td>0,01 t/m 50,00</td>\n",
       "      <td>0,01 t/m 55,00</td>\n",
       "      <td>0,01 t/m 50,00</td>\n",
       "      <td>0,01 t/m 45,00</td>\n",
       "      <td>0,01 t/m 90,00</td>\n",
       "      <td>0,01 t/m 60,00</td>\n",
       "      <td>0,01 t/m 35,00</td>\n",
       "      <td>0,01 t/m 50,00</td>\n",
       "      <td>0,01 t/m 60,00</td>\n",
       "    </tr>\n",
       "    <tr>\n",
       "      <th>2</th>\n",
       "      <td>A+++</td>\n",
       "      <td>0,01 t/m 50,00</td>\n",
       "      <td>40,01 t/m 80,00</td>\n",
       "      <td>50,01 t/m 100,00</td>\n",
       "      <td>55,01 t/m 110,00</td>\n",
       "      <td>50,01 t/m 100,00</td>\n",
       "      <td>45,01 t/m 90,00</td>\n",
       "      <td>90,01 t/m 180,00</td>\n",
       "      <td>60,01 t/m 120,00</td>\n",
       "      <td>35,01 t/m 70,00</td>\n",
       "      <td>50,01 t/m 100,00</td>\n",
       "      <td>60,01 t/m 120,00</td>\n",
       "    </tr>\n",
       "    <tr>\n",
       "      <th>3</th>\n",
       "      <td>A++</td>\n",
       "      <td>50,01 t/m 75,00</td>\n",
       "      <td>80,01 t/m 120,00</td>\n",
       "      <td>100,01 t/m 150,00</td>\n",
       "      <td>110,01 t/m 165,00</td>\n",
       "      <td>100,01 t/m 150,00</td>\n",
       "      <td>90,01 t/m 135,00</td>\n",
       "      <td>180,01 t/m 270,00</td>\n",
       "      <td>120,01 t/m 180,00</td>\n",
       "      <td>70,01 t/m 105,00</td>\n",
       "      <td>100,01 t/m 150,00</td>\n",
       "      <td>120,01 t/m 180,00</td>\n",
       "    </tr>\n",
       "    <tr>\n",
       "      <th>4</th>\n",
       "      <td>A+</td>\n",
       "      <td>75,01 t/m 105,00</td>\n",
       "      <td>120,01 t/m 160,00</td>\n",
       "      <td>150,01 t/m 200,00</td>\n",
       "      <td>165,01 t/m 220,00</td>\n",
       "      <td>150,01 t/m 200,00</td>\n",
       "      <td>135,01 t/m 180,00</td>\n",
       "      <td>270,01 t/m 360,00</td>\n",
       "      <td>180,01 t/m 240,00</td>\n",
       "      <td>105,01 t/m 140,00</td>\n",
       "      <td>150,01 t/m 200,00</td>\n",
       "      <td>180,01 t/m 240,00</td>\n",
       "    </tr>\n",
       "  </tbody>\n",
       "</table>\n",
       "</div>"
      ],
      "text/plain": [
       "  Letter of Lettercombinatie                     Woning   \\\n",
       "0                     A+++++                         NaN   \n",
       "1                      A++++  Kleiner of gelijk aan 0,00   \n",
       "2                       A+++              0,01 t/m 50,00   \n",
       "3                        A++             50,01 t/m 75,00   \n",
       "4                         A+            75,01 t/m 105,00   \n",
       "\n",
       "                      Kantoor Bijeenkomst zonder kinderdagverblijf  \\\n",
       "0  Kleiner of gelijk aan 0,00           Kleiner of gelijk aan 0,00   \n",
       "1              0,01 t/m 40,00                       0,01 t/m 50,00   \n",
       "2             40,01 t/m 80,00                     50,01 t/m 100,00   \n",
       "3            80,01 t/m 120,00                    100,01 t/m 150,00   \n",
       "4           120,01 t/m 160,00                    150,01 t/m 200,00   \n",
       "\n",
       "  Bijeenkomst met kinderdagverblijf                   Onderwijs  \\\n",
       "0        Kleiner of gelijk aan 0,00  Kleiner of gelijk aan 0,00   \n",
       "1                    0,01 t/m 55,00              0,01 t/m 50,00   \n",
       "2                  55,01 t/m 110,00            50,01 t/m 100,00   \n",
       "3                 110,01 t/m 165,00           100,01 t/m 150,00   \n",
       "4                 165,01 t/m 220,00           150,01 t/m 200,00   \n",
       "\n",
       "              Zorg zonder bed                Zorg met bed  \\\n",
       "0  Kleiner of gelijk aan 0,00  Kleiner of gelijk aan 0,00   \n",
       "1              0,01 t/m 45,00              0,01 t/m 90,00   \n",
       "2             45,01 t/m 90,00            90,01 t/m 180,00   \n",
       "3            90,01 t/m 135,00           180,01 t/m 270,00   \n",
       "4           135,01 t/m 180,00           270,01 t/m 360,00   \n",
       "\n",
       "                       Winkel                       Sport  \\\n",
       "0  Kleiner of gelijk aan 0,00  Kleiner of gelijk aan 0,00   \n",
       "1              0,01 t/m 60,00              0,01 t/m 35,00   \n",
       "2            60,01 t/m 120,00             35,01 t/m 70,00   \n",
       "3           120,01 t/m 180,00            70,01 t/m 105,00   \n",
       "4           180,01 t/m 240,00           105,01 t/m 140,00   \n",
       "\n",
       "                       Logies                         Cel  \n",
       "0  Kleiner of gelijk aan 0,00  Kleiner of gelijk aan 0,00  \n",
       "1              0,01 t/m 50,00              0,01 t/m 60,00  \n",
       "2            50,01 t/m 100,00            60,01 t/m 120,00  \n",
       "3           100,01 t/m 150,00           120,01 t/m 180,00  \n",
       "4           150,01 t/m 200,00           180,01 t/m 240,00  "
      ]
     },
     "execution_count": 23,
     "metadata": {},
     "output_type": "execute_result"
    }
   ],
   "source": [
    "# Load energy label data from RVO\n",
    "df = pd.read_csv('data/Energy_Labels.csv')\n",
    "\n",
    "df.head()"
   ]
  },
  {
   "cell_type": "code",
   "execution_count": 24,
   "metadata": {
    "colab": {
     "base_uri": "https://localhost:8080/",
     "height": 423
    },
    "id": "ADzJ1GgF5wtI",
    "outputId": "9eb28c8c-dae5-43e9-b3e7-6c7e1b574b52"
   },
   "outputs": [
    {
     "data": {
      "text/html": [
       "<div>\n",
       "<style scoped>\n",
       "    .dataframe tbody tr th:only-of-type {\n",
       "        vertical-align: middle;\n",
       "    }\n",
       "\n",
       "    .dataframe tbody tr th {\n",
       "        vertical-align: top;\n",
       "    }\n",
       "\n",
       "    .dataframe thead th {\n",
       "        text-align: right;\n",
       "    }\n",
       "</style>\n",
       "<table border=\"1\" class=\"dataframe\">\n",
       "  <thead>\n",
       "    <tr style=\"text-align: right;\">\n",
       "      <th></th>\n",
       "      <th>Label</th>\n",
       "      <th>Building_Type</th>\n",
       "      <th>Consumption_Range</th>\n",
       "      <th>Min_Consumption</th>\n",
       "      <th>Max_Consumption</th>\n",
       "      <th>Mean_Consumption</th>\n",
       "    </tr>\n",
       "  </thead>\n",
       "  <tbody>\n",
       "    <tr>\n",
       "      <th>0</th>\n",
       "      <td>A+++++</td>\n",
       "      <td>Woning</td>\n",
       "      <td>NaN</td>\n",
       "      <td>NaN</td>\n",
       "      <td>NaN</td>\n",
       "      <td>NaN</td>\n",
       "    </tr>\n",
       "    <tr>\n",
       "      <th>1</th>\n",
       "      <td>A++++</td>\n",
       "      <td>Woning</td>\n",
       "      <td>Kleiner of gelijk aan 0,00</td>\n",
       "      <td>-inf</td>\n",
       "      <td>0.0</td>\n",
       "      <td>0.000</td>\n",
       "    </tr>\n",
       "    <tr>\n",
       "      <th>2</th>\n",
       "      <td>A+++</td>\n",
       "      <td>Woning</td>\n",
       "      <td>0,01 t/m 50,00</td>\n",
       "      <td>0.01</td>\n",
       "      <td>50.0</td>\n",
       "      <td>25.005</td>\n",
       "    </tr>\n",
       "    <tr>\n",
       "      <th>3</th>\n",
       "      <td>A++</td>\n",
       "      <td>Woning</td>\n",
       "      <td>50,01 t/m 75,00</td>\n",
       "      <td>50.01</td>\n",
       "      <td>75.0</td>\n",
       "      <td>62.505</td>\n",
       "    </tr>\n",
       "    <tr>\n",
       "      <th>4</th>\n",
       "      <td>A+</td>\n",
       "      <td>Woning</td>\n",
       "      <td>75,01 t/m 105,00</td>\n",
       "      <td>75.01</td>\n",
       "      <td>105.0</td>\n",
       "      <td>90.005</td>\n",
       "    </tr>\n",
       "    <tr>\n",
       "      <th>...</th>\n",
       "      <td>...</td>\n",
       "      <td>...</td>\n",
       "      <td>...</td>\n",
       "      <td>...</td>\n",
       "      <td>...</td>\n",
       "      <td>...</td>\n",
       "    </tr>\n",
       "    <tr>\n",
       "      <th>95</th>\n",
       "      <td>G</td>\n",
       "      <td>Winkel</td>\n",
       "      <td>Groter dan 475,00</td>\n",
       "      <td>475.00</td>\n",
       "      <td>inf</td>\n",
       "      <td>475.000</td>\n",
       "    </tr>\n",
       "    <tr>\n",
       "      <th>96</th>\n",
       "      <td>A+++++</td>\n",
       "      <td>Sport</td>\n",
       "      <td>Kleiner of gelijk aan 0,00</td>\n",
       "      <td>-inf</td>\n",
       "      <td>0.0</td>\n",
       "      <td>0.000</td>\n",
       "    </tr>\n",
       "    <tr>\n",
       "      <th>97</th>\n",
       "      <td>A++++</td>\n",
       "      <td>Sport</td>\n",
       "      <td>0,01 t/m 35,00</td>\n",
       "      <td>0.01</td>\n",
       "      <td>35.0</td>\n",
       "      <td>17.505</td>\n",
       "    </tr>\n",
       "    <tr>\n",
       "      <th>98</th>\n",
       "      <td>A+++</td>\n",
       "      <td>Sport</td>\n",
       "      <td>35,01 t/m 70,00</td>\n",
       "      <td>35.01</td>\n",
       "      <td>70.0</td>\n",
       "      <td>52.505</td>\n",
       "    </tr>\n",
       "    <tr>\n",
       "      <th>99</th>\n",
       "      <td>A++</td>\n",
       "      <td>Sport</td>\n",
       "      <td>70,01 t/m 105,00</td>\n",
       "      <td>70.01</td>\n",
       "      <td>105.0</td>\n",
       "      <td>87.505</td>\n",
       "    </tr>\n",
       "  </tbody>\n",
       "</table>\n",
       "<p>100 rows × 6 columns</p>\n",
       "</div>"
      ],
      "text/plain": [
       "     Label Building_Type           Consumption_Range  Min_Consumption  \\\n",
       "0   A+++++        Woning                         NaN              NaN   \n",
       "1    A++++        Woning  Kleiner of gelijk aan 0,00             -inf   \n",
       "2     A+++        Woning              0,01 t/m 50,00             0.01   \n",
       "3      A++        Woning             50,01 t/m 75,00            50.01   \n",
       "4       A+        Woning            75,01 t/m 105,00            75.01   \n",
       "..     ...           ...                         ...              ...   \n",
       "95       G        Winkel           Groter dan 475,00           475.00   \n",
       "96  A+++++         Sport  Kleiner of gelijk aan 0,00             -inf   \n",
       "97   A++++         Sport              0,01 t/m 35,00             0.01   \n",
       "98    A+++         Sport             35,01 t/m 70,00            35.01   \n",
       "99     A++         Sport            70,01 t/m 105,00            70.01   \n",
       "\n",
       "    Max_Consumption  Mean_Consumption  \n",
       "0               NaN               NaN  \n",
       "1               0.0             0.000  \n",
       "2              50.0            25.005  \n",
       "3              75.0            62.505  \n",
       "4             105.0            90.005  \n",
       "..              ...               ...  \n",
       "95              inf           475.000  \n",
       "96              0.0             0.000  \n",
       "97             35.0            17.505  \n",
       "98             70.0            52.505  \n",
       "99            105.0            87.505  \n",
       "\n",
       "[100 rows x 6 columns]"
      ]
     },
     "execution_count": 24,
     "metadata": {},
     "output_type": "execute_result"
    }
   ],
   "source": [
    "#making the excel table into a panda data frame\n",
    "#clean column names\n",
    "df.columns = [col.strip() for col in df.columns]\n",
    "\n",
    "#reshape from wide to long format\n",
    "long_df = df.melt(\n",
    "    id_vars=['Letter of Lettercombinatie'],\n",
    "    var_name='Building_Type',\n",
    "    value_name='Consumption_Range'\n",
    ")\n",
    "\n",
    "# Function to parse the consumption range strings\n",
    "def parse_range(cell):\n",
    "    cell = str(cell).strip()\n",
    "    if \"t/m\" in cell:\n",
    "        low, high = cell.split(\"t/m\")\n",
    "        return float(low.replace(\",\", \".\")), float(high.replace(\",\", \".\"))\n",
    "    elif \"Kleiner of gelijk aan\" in cell:\n",
    "        value = float(cell.split(\"aan\")[1].strip().replace(\",\", \".\"))\n",
    "        return float('-inf'), value\n",
    "    elif \"Groter dan\" in cell:\n",
    "        value = float(cell.split(\"dan\")[1].strip().replace(\",\", \".\"))\n",
    "        return value, float('inf')\n",
    "    elif cell == 'N/A' or pd.isna(cell):\n",
    "        return None, None\n",
    "    else:\n",
    "        return None, None\n",
    "\n",
    "#apply the parsing function\n",
    "long_df[['Min_Consumption', 'Max_Consumption']] = long_df['Consumption_Range'].apply(parse_range).apply(pd.Series)\n",
    "\n",
    "#rename for clarity\n",
    "long_df.rename(columns={'Letter of Lettercombinatie': 'Label'}, inplace=True)\n",
    "\n",
    "#custom mean\n",
    "def custom_mean(row):\n",
    "    if row['Label'] == 'A++++' and row['Building_Type'] == 'Woning':\n",
    "        return 0.0\n",
    "    elif row['Label'] == 'A+++++' and row['Building_Type'] != 'Woning':\n",
    "        return row['Max_Consumption']\n",
    "    elif row['Label'] == 'G':\n",
    "        return row['Min_Consumption']\n",
    "    else:\n",
    "        # Default: average if both values exist\n",
    "        if pd.notnull(row['Min_Consumption']) and pd.notnull(row['Max_Consumption']):\n",
    "            return (row['Min_Consumption'] + row['Max_Consumption']) / 2\n",
    "        else:\n",
    "            return np.nan\n",
    "\n",
    "long_df['Mean_Consumption'] = long_df.apply(custom_mean, axis=1)\n",
    "\n",
    "long_df.head(100)"
   ]
  },
  {
   "cell_type": "markdown",
   "metadata": {
    "id": "8YgMoZ4f0LWH"
   },
   "source": [
    "**Format energy classification and building purpose to get mean consumption**"
   ]
  },
  {
   "cell_type": "code",
   "execution_count": 26,
   "metadata": {
    "colab": {
     "base_uri": "https://localhost:8080/"
    },
    "id": "14MKh5i02yyA",
    "outputId": "dedb5161-1121-4eb2-9d49-7c8a24e9fb1d"
   },
   "outputs": [
    {
     "name": "stdout",
     "output_type": "stream",
     "text": [
      "Missing values in 'gebruiksdoel' after fill: 0\n"
     ]
    }
   ],
   "source": [
    "#a.define restrictiveness order (lower is more restrictive)\n",
    "rvo_restrictiveness = {\n",
    "    'woning': 1,\n",
    "    'cel': 2,\n",
    "    'kantoor': 3,\n",
    "    'onderwijs': 4,\n",
    "    'logies': 5,\n",
    "    'sport': 6,\n",
    "    'winkel': 7,\n",
    "    'zorg zonder bed': 8,\n",
    "    'zorg met bed': 8,\n",
    "    'bijeenkomst zonder kinderdagverblijf': 9,\n",
    "    'bijeenkomst met kinderdagverblijf': 9\n",
    "}\n",
    "\n",
    "#since woning is most restictive\n",
    "# Fill missing 'gebruiksdoel' with 'woning'\n",
    "gdf['gebruiksdoel'] = gdf['gebruiksdoel'].fillna('woonfunctie')\n",
    "\n",
    "# Optional: Confirm the update\n",
    "print(\"Missing values in 'gebruiksdoel' after fill:\", gdf['gebruiksdoel'].isna().sum())\n",
    "\n",
    "\n",
    "#b.map my dataset's `gebruiksdoel` to RVO\n",
    "gebruiksdoel_to_rvo = {\n",
    "    'woonfunctie': ['woning'],\n",
    "    'woning': ['woning'],\n",
    "    'winkelfunctie': ['winkel'],\n",
    "    'sportfunctie': ['sport'],\n",
    "    'overige gebruiksfunctie': ['bijeenkomst zonder kinderdagverblijf'],\n",
    "    'onderwijsfunctie': ['onderwijs'],\n",
    "    'logiesfunctie': ['logies'],\n",
    "    'kantoorfunctie': ['kantoor'],\n",
    "    'industriefunctie': ['bijeenkomst zonder kinderdagverblijf'],\n",
    "    'gezondheidszorgfunctie': ['zorg zonder bed', 'zorg met bed'],\n",
    "    'celfunctie': ['cel'],\n",
    "    'bijeenkomstfunctie': ['bijeenkomst zonder kinderdagverblijf', 'bijeenkomst met kinderdagverblijf']\n",
    "}\n",
    "\n",
    "#c.define function to get most restrictive mapped use\n",
    "def get_most_restrictive_use(entry, label):\n",
    "    if pd.isna(entry):\n",
    "        return np.nan\n",
    "    categories = [x.strip() for x in entry.split(',')]\n",
    "    rvo_equivalents = []\n",
    "    for cat in categories:\n",
    "        mapped = gebruiksdoel_to_rvo.get(cat, [])\n",
    "        rvo_equivalents.extend(mapped)\n",
    "\n",
    "    if not rvo_equivalents:\n",
    "        return np.nan\n",
    "\n",
    "    rvo_equivalents = list(set(rvo_equivalents))  # remove duplicates\n",
    "\n",
    "    # Special case: exclude 'woning' if label is A+++++\n",
    "    if label == 'A+++++' and 'woning' in rvo_equivalents and len(rvo_equivalents) > 1:\n",
    "        rvo_equivalents.remove('woning')\n",
    "\n",
    "    most_restrictive = min(rvo_equivalents, key=lambda x: rvo_restrictiveness.get(x, float('inf')))\n",
    "    return most_restrictive\n",
    "\n",
    "\n",
    "gdf['primary_use_most_restrictive'] = gdf.apply(\n",
    "    lambda row: get_most_restrictive_use(row['gebruiksdoel'], row['Energielabel']),\n",
    "    axis=1\n",
    ")"
   ]
  },
  {
   "cell_type": "code",
   "execution_count": 27,
   "metadata": {
    "colab": {
     "base_uri": "https://localhost:8080/"
    },
    "id": "nSQfw0LcZEX1",
    "outputId": "b22e57b8-1f65-4b1f-9abe-7e398e0d1cb7"
   },
   "outputs": [
    {
     "name": "stdout",
     "output_type": "stream",
     "text": [
      "primary_use_most_restrictive\n",
      "bijeenkomst met kinderdagverblijf         1442\n",
      "bijeenkomst zonder kinderdagverblijf     16930\n",
      "cel                                          7\n",
      "kantoor                                   5793\n",
      "logies                                     701\n",
      "onderwijs                                  649\n",
      "sport                                      358\n",
      "winkel                                    2369\n",
      "woning                                  430763\n",
      "zorg met bed                               212\n",
      "Name: count, dtype: int64\n",
      "Missing values in 'primary_use_most_restrictive': 0\n"
     ]
    }
   ],
   "source": [
    "print(gdf['primary_use_most_restrictive'].value_counts().sort_index())\n",
    "\n",
    "missing_values = gdf['primary_use_most_restrictive'].isna().sum()\n",
    "print(f\"Missing values in 'primary_use_most_restrictive': {missing_values}\")"
   ]
  },
  {
   "cell_type": "code",
   "execution_count": 28,
   "metadata": {
    "id": "shqQVD0M-PF-"
   },
   "outputs": [],
   "source": [
    "#adding Mean_Consumption_m2\n",
    "# Creating the lookup dictionary\n",
    "mean_consumption_lookup = long_df.set_index(['Building_Type', 'Label'])['Mean_Consumption'].to_dict()\n",
    "\n",
    "# Updated function with consistent casing\n",
    "def retrieve_mean_consumption(row):\n",
    "    building_type = row['primary_use_most_restrictive']\n",
    "    label = row['Energielabel']\n",
    "\n",
    "    if pd.isna(building_type) or pd.isna(label):\n",
    "        return np.nan\n",
    "\n",
    "    # Ensure casing matches the lookup dictionary\n",
    "    key = (building_type.capitalize(), str(label).upper())\n",
    "    return mean_consumption_lookup.get(key, np.nan)\n",
    "\n",
    "# Apply the function\n",
    "gdf['Mean_Consumption_m2'] = gdf.apply(retrieve_mean_consumption, axis=1)\n",
    "\n"
   ]
  },
  {
   "cell_type": "markdown",
   "metadata": {
    "id": "9TVxINkedPJ5"
   },
   "source": [
    "**Overview of the data before RF**"
   ]
  },
  {
   "cell_type": "code",
   "execution_count": 30,
   "metadata": {
    "colab": {
     "base_uri": "https://localhost:8080/",
     "height": 602
    },
    "id": "v65_J7a3CLR9",
    "outputId": "0f3d3acc-bcdf-48e2-ba6d-aed888940c18"
   },
   "outputs": [
    {
     "data": {
      "text/html": [
       "<div>\n",
       "<style scoped>\n",
       "    .dataframe tbody tr th:only-of-type {\n",
       "        vertical-align: middle;\n",
       "    }\n",
       "\n",
       "    .dataframe tbody tr th {\n",
       "        vertical-align: top;\n",
       "    }\n",
       "\n",
       "    .dataframe thead th {\n",
       "        text-align: right;\n",
       "    }\n",
       "</style>\n",
       "<table border=\"1\" class=\"dataframe\">\n",
       "  <thead>\n",
       "    <tr style=\"text-align: right;\">\n",
       "      <th></th>\n",
       "      <th>rdf_seealso</th>\n",
       "      <th>identificatie</th>\n",
       "      <th>bouwjaar</th>\n",
       "      <th>gebruiksdoel</th>\n",
       "      <th>oppervlakte_min</th>\n",
       "      <th>oppervlakte_max</th>\n",
       "      <th>aantal_verblijfsobjecten</th>\n",
       "      <th>median_height</th>\n",
       "      <th>median_slope</th>\n",
       "      <th>roof_area</th>\n",
       "      <th>...</th>\n",
       "      <th>suitable</th>\n",
       "      <th>Energielabel</th>\n",
       "      <th>Warmtebehoefte</th>\n",
       "      <th>BerekendeCO2Emissie</th>\n",
       "      <th>BerekendeEnergieverbruik</th>\n",
       "      <th>already_GR</th>\n",
       "      <th>geometry</th>\n",
       "      <th>Roof_insulation</th>\n",
       "      <th>primary_use_most_restrictive</th>\n",
       "      <th>Mean_Consumption_m2</th>\n",
       "    </tr>\n",
       "  </thead>\n",
       "  <tbody>\n",
       "    <tr>\n",
       "      <th>0</th>\n",
       "      <td>http://bag.basisregistraties.overheid.nl/bag/i...</td>\n",
       "      <td>0363100012236426</td>\n",
       "      <td>1901</td>\n",
       "      <td>woonfunctie</td>\n",
       "      <td>73.0</td>\n",
       "      <td>106.0</td>\n",
       "      <td>2</td>\n",
       "      <td>7.51980</td>\n",
       "      <td>13.561999</td>\n",
       "      <td>119.919041</td>\n",
       "      <td>...</td>\n",
       "      <td>True</td>\n",
       "      <td>None</td>\n",
       "      <td>NaN</td>\n",
       "      <td>NaN</td>\n",
       "      <td>NaN</td>\n",
       "      <td>1</td>\n",
       "      <td>POLYGON ((124301.707 484732.009, 124299.546 48...</td>\n",
       "      <td>NaN</td>\n",
       "      <td>woning</td>\n",
       "      <td>NaN</td>\n",
       "    </tr>\n",
       "    <tr>\n",
       "      <th>1</th>\n",
       "      <td>http://bag.basisregistraties.overheid.nl/bag/i...</td>\n",
       "      <td>0363100012236497</td>\n",
       "      <td>1901</td>\n",
       "      <td>woonfunctie</td>\n",
       "      <td>263.0</td>\n",
       "      <td>263.0</td>\n",
       "      <td>1</td>\n",
       "      <td>7.93570</td>\n",
       "      <td>1.733070</td>\n",
       "      <td>123.458186</td>\n",
       "      <td>...</td>\n",
       "      <td>True</td>\n",
       "      <td>None</td>\n",
       "      <td>NaN</td>\n",
       "      <td>NaN</td>\n",
       "      <td>NaN</td>\n",
       "      <td>1</td>\n",
       "      <td>POLYGON ((124301.707 484732.009, 124292.992 48...</td>\n",
       "      <td>NaN</td>\n",
       "      <td>woning</td>\n",
       "      <td>NaN</td>\n",
       "    </tr>\n",
       "    <tr>\n",
       "      <th>2</th>\n",
       "      <td>http://bag.basisregistraties.overheid.nl/bag/i...</td>\n",
       "      <td>0363100012168170</td>\n",
       "      <td>1896</td>\n",
       "      <td>logiesfunctie</td>\n",
       "      <td>5425.0</td>\n",
       "      <td>5425.0</td>\n",
       "      <td>1</td>\n",
       "      <td>26.71180</td>\n",
       "      <td>26.984734</td>\n",
       "      <td>1397.147109</td>\n",
       "      <td>...</td>\n",
       "      <td>True</td>\n",
       "      <td>None</td>\n",
       "      <td>NaN</td>\n",
       "      <td>NaN</td>\n",
       "      <td>NaN</td>\n",
       "      <td>1</td>\n",
       "      <td>POLYGON ((121446.529 486770.623, 121440.192 48...</td>\n",
       "      <td>NaN</td>\n",
       "      <td>logies</td>\n",
       "      <td>NaN</td>\n",
       "    </tr>\n",
       "    <tr>\n",
       "      <th>3</th>\n",
       "      <td>http://bag.basisregistraties.overheid.nl/bag/i...</td>\n",
       "      <td>0363100012147095</td>\n",
       "      <td>1960</td>\n",
       "      <td>woonfunctie</td>\n",
       "      <td>186.0</td>\n",
       "      <td>186.0</td>\n",
       "      <td>1</td>\n",
       "      <td>9.91405</td>\n",
       "      <td>16.912146</td>\n",
       "      <td>80.502788</td>\n",
       "      <td>...</td>\n",
       "      <td>True</td>\n",
       "      <td>None</td>\n",
       "      <td>NaN</td>\n",
       "      <td>NaN</td>\n",
       "      <td>NaN</td>\n",
       "      <td>1</td>\n",
       "      <td>POLYGON ((119261.859 482088.564, 119254.859 48...</td>\n",
       "      <td>NaN</td>\n",
       "      <td>woning</td>\n",
       "      <td>NaN</td>\n",
       "    </tr>\n",
       "    <tr>\n",
       "      <th>4</th>\n",
       "      <td>http://bag.basisregistraties.overheid.nl/bag/i...</td>\n",
       "      <td>0363100012161608</td>\n",
       "      <td>1932</td>\n",
       "      <td>industriefunctie,winkelfunctie,woonfunctie</td>\n",
       "      <td>31.0</td>\n",
       "      <td>220.0</td>\n",
       "      <td>21</td>\n",
       "      <td>18.71840</td>\n",
       "      <td>14.348902</td>\n",
       "      <td>564.971506</td>\n",
       "      <td>...</td>\n",
       "      <td>True</td>\n",
       "      <td>A</td>\n",
       "      <td>NaN</td>\n",
       "      <td>36.68</td>\n",
       "      <td>674.66</td>\n",
       "      <td>1</td>\n",
       "      <td>POLYGON ((120360.106 489308.172, 120352.741 48...</td>\n",
       "      <td>1.0</td>\n",
       "      <td>woning</td>\n",
       "      <td>132.505</td>\n",
       "    </tr>\n",
       "  </tbody>\n",
       "</table>\n",
       "<p>5 rows × 25 columns</p>\n",
       "</div>"
      ],
      "text/plain": [
       "                                         rdf_seealso     identificatie  \\\n",
       "0  http://bag.basisregistraties.overheid.nl/bag/i...  0363100012236426   \n",
       "1  http://bag.basisregistraties.overheid.nl/bag/i...  0363100012236497   \n",
       "2  http://bag.basisregistraties.overheid.nl/bag/i...  0363100012168170   \n",
       "3  http://bag.basisregistraties.overheid.nl/bag/i...  0363100012147095   \n",
       "4  http://bag.basisregistraties.overheid.nl/bag/i...  0363100012161608   \n",
       "\n",
       "   bouwjaar                                gebruiksdoel  oppervlakte_min  \\\n",
       "0      1901                                 woonfunctie             73.0   \n",
       "1      1901                                 woonfunctie            263.0   \n",
       "2      1896                               logiesfunctie           5425.0   \n",
       "3      1960                                 woonfunctie            186.0   \n",
       "4      1932  industriefunctie,winkelfunctie,woonfunctie             31.0   \n",
       "\n",
       "   oppervlakte_max  aantal_verblijfsobjecten  median_height  median_slope  \\\n",
       "0            106.0                         2        7.51980     13.561999   \n",
       "1            263.0                         1        7.93570      1.733070   \n",
       "2           5425.0                         1       26.71180     26.984734   \n",
       "3            186.0                         1        9.91405     16.912146   \n",
       "4            220.0                        21       18.71840     14.348902   \n",
       "\n",
       "     roof_area  ...  suitable  Energielabel  Warmtebehoefte  \\\n",
       "0   119.919041  ...      True          None             NaN   \n",
       "1   123.458186  ...      True          None             NaN   \n",
       "2  1397.147109  ...      True          None             NaN   \n",
       "3    80.502788  ...      True          None             NaN   \n",
       "4   564.971506  ...      True             A             NaN   \n",
       "\n",
       "   BerekendeCO2Emissie  BerekendeEnergieverbruik  already_GR  \\\n",
       "0                  NaN                       NaN           1   \n",
       "1                  NaN                       NaN           1   \n",
       "2                  NaN                       NaN           1   \n",
       "3                  NaN                       NaN           1   \n",
       "4                36.68                    674.66           1   \n",
       "\n",
       "                                            geometry  Roof_insulation  \\\n",
       "0  POLYGON ((124301.707 484732.009, 124299.546 48...              NaN   \n",
       "1  POLYGON ((124301.707 484732.009, 124292.992 48...              NaN   \n",
       "2  POLYGON ((121446.529 486770.623, 121440.192 48...              NaN   \n",
       "3  POLYGON ((119261.859 482088.564, 119254.859 48...              NaN   \n",
       "4  POLYGON ((120360.106 489308.172, 120352.741 48...              1.0   \n",
       "\n",
       "   primary_use_most_restrictive  Mean_Consumption_m2  \n",
       "0                        woning                  NaN  \n",
       "1                        woning                  NaN  \n",
       "2                        logies                  NaN  \n",
       "3                        woning                  NaN  \n",
       "4                        woning              132.505  \n",
       "\n",
       "[5 rows x 25 columns]"
      ]
     },
     "execution_count": 30,
     "metadata": {},
     "output_type": "execute_result"
    }
   ],
   "source": [
    "gdf.head()"
   ]
  },
  {
   "cell_type": "code",
   "execution_count": 31,
   "metadata": {
    "colab": {
     "base_uri": "https://localhost:8080/"
    },
    "id": "_hSt_HrYEf1H",
    "outputId": "a1b91db1-2ffc-4e5e-8950-1ff8c61116fb"
   },
   "outputs": [
    {
     "data": {
      "text/plain": [
       "Index(['rdf_seealso', 'identificatie', 'bouwjaar', 'gebruiksdoel',\n",
       "       'oppervlakte_min', 'oppervlakte_max', 'aantal_verblijfsobjecten',\n",
       "       'median_height', 'median_slope', 'roof_area', 'norm_age', 'norm_area',\n",
       "       'norm_height', 'norm_slope', 'GPS_roof', 'suitable', 'Energielabel',\n",
       "       'Warmtebehoefte', 'BerekendeCO2Emissie', 'BerekendeEnergieverbruik',\n",
       "       'already_GR', 'geometry', 'Roof_insulation',\n",
       "       'primary_use_most_restrictive', 'Mean_Consumption_m2'],\n",
       "      dtype='object')"
      ]
     },
     "execution_count": 31,
     "metadata": {},
     "output_type": "execute_result"
    }
   ],
   "source": [
    "gdf.columns"
   ]
  },
  {
   "cell_type": "code",
   "execution_count": 32,
   "metadata": {
    "colab": {
     "base_uri": "https://localhost:8080/"
    },
    "id": "2RQ7n71PwQNF",
    "outputId": "4264d5fc-388e-419d-ba04-7f6d7d7c5e7d"
   },
   "outputs": [
    {
     "name": "stdout",
     "output_type": "stream",
     "text": [
      "already_GR\n",
      "0    452616\n",
      "1      6608\n",
      "Name: count, dtype: int64\n"
     ]
    }
   ],
   "source": [
    "print(gdf['already_GR'].value_counts().sort_index())"
   ]
  },
  {
   "cell_type": "code",
   "execution_count": 146,
   "metadata": {},
   "outputs": [
    {
     "name": "stdout",
     "output_type": "stream",
     "text": [
      "Energielabel\n",
      "A         117279\n",
      "A+         17865\n",
      "A++         9433\n",
      "A+++        4096\n",
      "A++++        624\n",
      "A+++++        32\n",
      "B          52066\n",
      "C          77271\n",
      "D          42691\n",
      "E          21274\n",
      "F          10432\n",
      "G          12088\n",
      "Name: count, dtype: int64\n"
     ]
    }
   ],
   "source": [
    "print(gdf['Energielabel'].value_counts().sort_index())"
   ]
  },
  {
   "cell_type": "markdown",
   "metadata": {
    "id": "nwoo1QjRGrlP"
   },
   "source": [
    "#### RF for EnergyLabel"
   ]
  },
  {
   "cell_type": "code",
   "execution_count": 34,
   "metadata": {
    "id": "Qe8TIWOM7YR4"
   },
   "outputs": [],
   "source": [
    "# Separate rows with and without EnergyLabel\n",
    "gdf_labeled = gdf[gdf['Energielabel'].notna()].copy()\n",
    "gdf_unlabeled = gdf[gdf['Energielabel'].isna()].copy()  # You can later predict for this\n",
    "\n",
    "# Map EnergyLabel to ordinal\n",
    "energy_order = {\n",
    "    'A+++++': 0, 'A++++': 1, 'A+++': 2, 'A++': 3, 'A+': 4,\n",
    "    'A': 5, 'B': 6, 'C': 7, 'D': 8, 'E': 9, 'F': 10, 'G': 11\n",
    "}\n",
    "gdf_labeled['EnergyLabel_ordinal'] = gdf_labeled['Energielabel'].map(energy_order)\n",
    "\n",
    "# Features and target\n",
    "features_energy = [\n",
    "    'bouwjaar', 'oppervlakte_min', 'oppervlakte_max', 'aantal_verblijfsobjecten',\n",
    "    'median_height', 'median_slope', 'roof_area', 'norm_age',\n",
    "    'norm_area', 'norm_height', 'norm_slope', 'GPS_roof', 'Warmtebehoefte',\n",
    "    'BerekendeCO2Emissie', 'BerekendeEnergieverbruik', 'primary_use_most_restrictive', 'already_GR'\n",
    "]\n",
    "\n",
    "target_energy = 'EnergyLabel_ordinal'"
   ]
  },
  {
   "cell_type": "markdown",
   "metadata": {
    "id": "vUlEr3NT_v4M"
   },
   "source": [
    "OH NO!!!!"
   ]
  },
  {
   "cell_type": "code",
   "execution_count": 36,
   "metadata": {
    "colab": {
     "base_uri": "https://localhost:8080/"
    },
    "id": "FiFPVSjuLxA3",
    "outputId": "15ce67fb-a0c2-419c-b868-732ab447dacb"
   },
   "outputs": [
    {
     "name": "stdout",
     "output_type": "stream",
     "text": [
      "Total green roofs: 6608\n",
      "Green roofs with EnergyLabel: 6464\n",
      "Missing EnergyLabels among green roofs: 144\n"
     ]
    }
   ],
   "source": [
    "total_green_roof = gdf[gdf['already_GR'] == 1].shape[0]\n",
    "green_roof_with_label = gdf_labeled[gdf_labeled['already_GR'] == 1].shape[0]\n",
    "print(f\"Total green roofs: {total_green_roof}\")\n",
    "print(f\"Green roofs with EnergyLabel: {green_roof_with_label}\")\n",
    "print(f\"Missing EnergyLabels among green roofs: {total_green_roof - green_roof_with_label}\")"
   ]
  },
  {
   "cell_type": "markdown",
   "metadata": {
    "id": "jbSK9eVCLsPs"
   },
   "source": [
    "Distribution of the 6464 green roof across energy labels"
   ]
  },
  {
   "cell_type": "code",
   "execution_count": 38,
   "metadata": {
    "colab": {
     "base_uri": "https://localhost:8080/"
    },
    "id": "6S0NhPLJLd8x",
    "outputId": "edabf1f2-9d24-412e-c9d5-9d59f0bc85fc"
   },
   "outputs": [
    {
     "name": "stdout",
     "output_type": "stream",
     "text": [
      "Green Roofs per EnergyLabel:\n",
      "EnergyLabel_ordinal\n",
      "1        5\n",
      "2       97\n",
      "3      270\n",
      "4      569\n",
      "5     3090\n",
      "6     1299\n",
      "7      790\n",
      "8      138\n",
      "9       68\n",
      "10      26\n",
      "11     112\n",
      "Name: count, dtype: int64\n"
     ]
    }
   ],
   "source": [
    "green_roof_with_label = gdf_labeled[gdf_labeled['already_GR'] == 1].copy()\n",
    "\n",
    "# Check distribution of EnergyLabel_ordinal\n",
    "label_dist_green = green_roof_with_label['EnergyLabel_ordinal'].value_counts().sort_index()\n",
    "print(\"Green Roofs per EnergyLabel:\")\n",
    "print(label_dist_green)"
   ]
  },
  {
   "cell_type": "code",
   "execution_count": 39,
   "metadata": {
    "colab": {
     "base_uri": "https://localhost:8080/"
    },
    "id": "GU6jXtPHwgtL",
    "outputId": "a87d2fd5-a872-4d89-f950-c156ba894755"
   },
   "outputs": [
    {
     "name": "stdout",
     "output_type": "stream",
     "text": [
      "Requirement already satisfied: scipy in /opt/anaconda3/lib/python3.12/site-packages (1.13.1)\n",
      "Requirement already satisfied: numpy<2.3,>=1.22.4 in /opt/anaconda3/lib/python3.12/site-packages (from scipy) (1.26.4)\n",
      "\n",
      "\u001b[1m[\u001b[0m\u001b[34;49mnotice\u001b[0m\u001b[1;39;49m]\u001b[0m\u001b[39;49m A new release of pip is available: \u001b[0m\u001b[31;49m25.0.1\u001b[0m\u001b[39;49m -> \u001b[0m\u001b[32;49m25.1.1\u001b[0m\n",
      "\u001b[1m[\u001b[0m\u001b[34;49mnotice\u001b[0m\u001b[1;39;49m]\u001b[0m\u001b[39;49m To update, run: \u001b[0m\u001b[32;49mpip install --upgrade pip\u001b[0m\n"
     ]
    }
   ],
   "source": [
    "!pip install scipy\n",
    "from scipy.stats import mode"
   ]
  },
  {
   "cell_type": "code",
   "execution_count": null,
   "metadata": {
    "id": "p6_AEueVmXbC"
   },
   "outputs": [],
   "source": [
    "import os\n",
    "correct_dir = \"10models\"\n",
    "os.makedirs(correct_dir, exist_ok=True)"
   ]
  },
  {
   "cell_type": "code",
   "execution_count": 41,
   "metadata": {
    "id": "dD7oddGdmkHN"
   },
   "outputs": [],
   "source": [
    "# Grouping function\n",
    "def group_label(ordinal):\n",
    "    if ordinal <= 4:\n",
    "        return 0\n",
    "    elif ordinal <= 7:\n",
    "        return 1\n",
    "    else:\n",
    "        return 2\n",
    "\n",
    "# Feature and column setup\n",
    "categorical_cols = ['primary_use_most_restrictive']\n",
    "preprocessor = ColumnTransformer([\n",
    "    ('num', KNNImputer(n_neighbors=5), [col for col in features_energy if col not in categorical_cols]),\n",
    "    ('cat', OneHotEncoder(handle_unknown='ignore'), categorical_cols)\n",
    "])\n",
    "\n",
    "# ADDED FOR FEATRE IMPORTANCE: Get all unique categories for 'primary_use_most_restrictive' and sort them\n",
    "full_cats = gdf_labeled['primary_use_most_restrictive'].dropna().unique()\n",
    "full_cats_sorted = sorted(full_cats)\n",
    "\n",
    "\n",
    "def build_pipeline(seed):\n",
    "    encoder = OneHotEncoder(\n",
    "        handle_unknown='ignore',\n",
    "        categories=[full_cats_sorted],\n",
    "        sparse_output=False\n",
    "    )\n",
    "\n",
    "    preprocessor = ColumnTransformer([\n",
    "        ('num', KNNImputer(n_neighbors=5), [col for col in features_energy if col not in categorical_cols]),\n",
    "        ('cat', encoder, categorical_cols)\n",
    "    ])\n",
    "\n",
    "    return Pipeline([\n",
    "        ('preprocessing', preprocessor),\n",
    "        ('classifier', RandomForestClassifier(random_state=seed, class_weight='balanced'))\n",
    "    ])\n"
   ]
  },
  {
   "cell_type": "code",
   "execution_count": 42,
   "metadata": {
    "id": "JpjvzdVdmrlr"
   },
   "outputs": [],
   "source": [
    "# Dataset Split\n",
    "green_roof_with_label = gdf_labeled[gdf_labeled['already_GR'] == 1].copy()\n",
    "green_roof_with_label['group_label'] = green_roof_with_label['EnergyLabel_ordinal'].map(group_label)\n",
    "X_test = green_roof_with_label[features_energy]\n",
    "y_test = green_roof_with_label['EnergyLabel_ordinal']\n",
    "\n",
    "no_green_roof = gdf_labeled[gdf_labeled['already_GR'] == 0].copy()\n",
    "no_green_roof['group_label'] = no_green_roof['EnergyLabel_ordinal'].map(group_label)"
   ]
  },
  {
   "cell_type": "code",
   "execution_count": 43,
   "metadata": {
    "id": "VDCdJIIQmUPZ"
   },
   "outputs": [],
   "source": [
    "# Loop over 10 runs\n",
    "n_runs = 10\n",
    "sample_size = 25856  # 80%\n",
    "csv_paths = []\n",
    "all_preds = []\n",
    "all_models = []\n",
    "all_importances = []\n",
    "\n",
    "for i in range(n_runs):\n",
    "    # Stratified sampling\n",
    "    train_df, _ = train_test_split(\n",
    "        no_green_roof,\n",
    "        train_size=sample_size,\n",
    "        stratify=no_green_roof['group_label'],\n",
    "        random_state=100 + i\n",
    "    )\n",
    "\n",
    "    test_df = green_roof_with_label.copy()\n",
    "\n",
    "    # Save train/test split\n",
    "    split_df = pd.concat([\n",
    "        train_df.assign(split='train'),\n",
    "        test_df.assign(split='test')\n",
    "    ])\n",
    "    csv_path = os.path.join(correct_dir, f\"train_test_split_run_{i}.csv\")\n",
    "    split_df.to_csv(csv_path, index=False)\n",
    "    csv_paths.append(csv_path)\n",
    "\n",
    "    # Train model\n",
    "    X_train = train_df[features_energy]\n",
    "    y_train = train_df['EnergyLabel_ordinal']\n",
    "    model = build_pipeline(seed=100 + i)\n",
    "    model.fit(X_train, y_train)\n",
    "\n",
    "    # Save model\n",
    "    model_path = os.path.join(correct_dir, f\"model_run_{i}.joblib\")\n",
    "    joblib.dump(model, model_path)\n",
    "\n",
    "    # Predict on test set\n",
    "    y_pred = model.predict(X_test)\n",
    "    all_preds.append(y_pred)\n",
    "    all_models.append(model)\n",
    "\n",
    "    # Save importances\n",
    "    all_importances.append(model.named_steps['classifier'].feature_importances_)"
   ]
  },
  {
   "cell_type": "code",
   "execution_count": 44,
   "metadata": {
    "colab": {
     "base_uri": "https://localhost:8080/"
    },
    "id": "BYE7CUoSnuN2",
    "outputId": "d585cc18-b90e-4133-8d1d-d260b71d17b2"
   },
   "outputs": [
    {
     "data": {
      "text/plain": [
       "['10models/voting_ensemble.joblib']"
      ]
     },
     "execution_count": 44,
     "metadata": {},
     "output_type": "execute_result"
    }
   ],
   "source": [
    "# Ensemble Majority Vote\n",
    "all_preds_array = np.array(all_preds)\n",
    "y_ensemble = mode(all_preds_array, axis=0, keepdims=False).mode\n",
    "\n",
    "# Save Ensemble Model\n",
    "voting_ensemble = VotingClassifier(\n",
    "    estimators=[(f'model_{i}', m) for i, m in enumerate(all_models)],\n",
    "    voting='hard'\n",
    ")\n",
    "\n",
    "# Fit on last training set just to finalize VotingClassifier (can reuse previous X_train/y_train)\n",
    "voting_ensemble.fit(X_train, y_train)\n",
    "ensemble_path = os.path.join(correct_dir, \"voting_ensemble.joblib\")\n",
    "joblib.dump(voting_ensemble, ensemble_path)"
   ]
  },
  {
   "cell_type": "code",
   "execution_count": 45,
   "metadata": {
    "colab": {
     "base_uri": "https://localhost:8080/"
    },
    "id": "mXVNqgp5n91n",
    "outputId": "575757c9-b888-4ffb-d409-827e4398add3"
   },
   "outputs": [
    {
     "name": "stdout",
     "output_type": "stream",
     "text": [
      "Grouped Accuracy: 0.8394183168316832\n",
      "Grouped F1 Score (macro): 0.7376032981540278\n",
      "\n",
      "Grouped Classification Report:\n",
      "              precision    recall  f1-score   support\n",
      "\n",
      "           0       0.53      0.92      0.67       941\n",
      "           1       0.95      0.84      0.89      5179\n",
      "           2       0.82      0.53      0.64       344\n",
      "\n",
      "    accuracy                           0.84      6464\n",
      "   macro avg       0.77      0.77      0.74      6464\n",
      "weighted avg       0.88      0.84      0.85      6464\n",
      "\n"
     ]
    }
   ],
   "source": [
    "# Apply grouping to true and predicted labels\n",
    "y_test_grouped = pd.Series(y_test).map(group_label)\n",
    "y_ensemble_grouped = pd.Series(y_ensemble).map(group_label)\n",
    "\n",
    "# Accuracy & F1 Score (macro)\n",
    "print(\"Grouped Accuracy:\", accuracy_score(y_test_grouped, y_ensemble_grouped))\n",
    "print(\"Grouped F1 Score (macro):\", f1_score(y_test_grouped, y_ensemble_grouped, average='macro'))\n",
    "\n",
    "# Detailed Classification Report\n",
    "print(\"\\nGrouped Classification Report:\")\n",
    "print(classification_report(y_test_grouped, y_ensemble_grouped))"
   ]
  },
  {
   "cell_type": "markdown",
   "metadata": {
    "id": "YRaPkIuIR-9u"
   },
   "source": [
    "feature importance"
   ]
  },
  {
   "cell_type": "code",
   "execution_count": 47,
   "metadata": {
    "colab": {
     "base_uri": "https://localhost:8080/"
    },
    "id": "HDu2AInlwFrQ",
    "outputId": "6e36e840-0237-4bc6-c890-354a2b82538a"
   },
   "outputs": [
    {
     "name": "stdout",
     "output_type": "stream",
     "text": [
      "Model 0 - length: 26 - sum: 1.0000\n",
      "Model 1 - length: 26 - sum: 1.0000\n",
      "Model 2 - length: 26 - sum: 1.0000\n",
      "Model 3 - length: 26 - sum: 1.0000\n",
      "Model 4 - length: 26 - sum: 1.0000\n",
      "Model 5 - length: 26 - sum: 1.0000\n",
      "Model 6 - length: 26 - sum: 1.0000\n",
      "Model 7 - length: 26 - sum: 1.0000\n",
      "Model 8 - length: 26 - sum: 1.0000\n",
      "Model 9 - length: 26 - sum: 1.0000\n"
     ]
    }
   ],
   "source": [
    "# Sanity check on feature importances\n",
    "for i, imp in enumerate(all_importances):\n",
    "    print(f\"Model {i} - length: {len(imp)} - sum: {np.sum(imp):.4f}\")"
   ]
  },
  {
   "cell_type": "code",
   "execution_count": 48,
   "metadata": {
    "colab": {
     "base_uri": "https://localhost:8080/"
    },
    "id": "TOl8Zj5WwL9B",
    "outputId": "db429101-4af1-4fdd-e35c-78adc089d451"
   },
   "outputs": [
    {
     "name": "stdout",
     "output_type": "stream",
     "text": [
      "Using 10 out of 10 models with correct shape.\n"
     ]
    }
   ],
   "source": [
    "# Determine expected length from last trained model\n",
    "expected_len = len(model.named_steps['classifier'].feature_importances_)\n",
    "\n",
    "# Keep only valid entries\n",
    "filtered_importances = [\n",
    "    imp for imp in all_importances if len(imp) == expected_len\n",
    "]\n",
    "\n",
    "print(f\"Using {len(filtered_importances)} out of {len(all_importances)} models with correct shape.\")"
   ]
  },
  {
   "cell_type": "code",
   "execution_count": 49,
   "metadata": {
    "id": "QMLrl8KBwL53"
   },
   "outputs": [],
   "source": [
    "# Compute average importances across valid models\n",
    "avg_importances = np.mean(filtered_importances, axis=0)"
   ]
  },
  {
   "cell_type": "code",
   "execution_count": 50,
   "metadata": {
    "id": "p6nlzdpDwP7w"
   },
   "outputs": [],
   "source": [
    "# Get encoded names for categorical feature 'primary_use_most_restrictive'\n",
    "encoder = model.named_steps['preprocessing'].transformers_[1][1]\n",
    "encoded_cats = encoder.get_feature_names_out(['primary_use_most_restrictive'])\n",
    "\n",
    "# Combine numerical + encoded categorical names\n",
    "final_feature_names = [\n",
    "    f for f in features_energy if f not in categorical_cols\n",
    "] + list(encoded_cats)"
   ]
  },
  {
   "cell_type": "code",
   "execution_count": 51,
   "metadata": {
    "colab": {
     "base_uri": "https://localhost:8080/",
     "height": 864
    },
    "id": "X4Be-zzrwP4_",
    "outputId": "a18bd81a-b47a-4ec4-8639-27df1fad1e82"
   },
   "outputs": [
    {
     "data": {
      "text/html": [
       "<div>\n",
       "<style scoped>\n",
       "    .dataframe tbody tr th:only-of-type {\n",
       "        vertical-align: middle;\n",
       "    }\n",
       "\n",
       "    .dataframe tbody tr th {\n",
       "        vertical-align: top;\n",
       "    }\n",
       "\n",
       "    .dataframe thead th {\n",
       "        text-align: right;\n",
       "    }\n",
       "</style>\n",
       "<table border=\"1\" class=\"dataframe\">\n",
       "  <thead>\n",
       "    <tr style=\"text-align: right;\">\n",
       "      <th></th>\n",
       "      <th>Feature</th>\n",
       "      <th>Importance</th>\n",
       "    </tr>\n",
       "  </thead>\n",
       "  <tbody>\n",
       "    <tr>\n",
       "      <th>14</th>\n",
       "      <td>BerekendeEnergieverbruik</td>\n",
       "      <td>0.213235</td>\n",
       "    </tr>\n",
       "    <tr>\n",
       "      <th>13</th>\n",
       "      <td>BerekendeCO2Emissie</td>\n",
       "      <td>0.190026</td>\n",
       "    </tr>\n",
       "    <tr>\n",
       "      <th>12</th>\n",
       "      <td>Warmtebehoefte</td>\n",
       "      <td>0.089277</td>\n",
       "    </tr>\n",
       "    <tr>\n",
       "      <th>7</th>\n",
       "      <td>norm_age</td>\n",
       "      <td>0.056665</td>\n",
       "    </tr>\n",
       "    <tr>\n",
       "      <th>0</th>\n",
       "      <td>bouwjaar</td>\n",
       "      <td>0.055507</td>\n",
       "    </tr>\n",
       "    <tr>\n",
       "      <th>1</th>\n",
       "      <td>oppervlakte_min</td>\n",
       "      <td>0.043837</td>\n",
       "    </tr>\n",
       "    <tr>\n",
       "      <th>11</th>\n",
       "      <td>GPS_roof</td>\n",
       "      <td>0.041028</td>\n",
       "    </tr>\n",
       "    <tr>\n",
       "      <th>9</th>\n",
       "      <td>norm_height</td>\n",
       "      <td>0.040298</td>\n",
       "    </tr>\n",
       "    <tr>\n",
       "      <th>4</th>\n",
       "      <td>median_height</td>\n",
       "      <td>0.039791</td>\n",
       "    </tr>\n",
       "    <tr>\n",
       "      <th>2</th>\n",
       "      <td>oppervlakte_max</td>\n",
       "      <td>0.038697</td>\n",
       "    </tr>\n",
       "    <tr>\n",
       "      <th>8</th>\n",
       "      <td>norm_area</td>\n",
       "      <td>0.037177</td>\n",
       "    </tr>\n",
       "    <tr>\n",
       "      <th>6</th>\n",
       "      <td>roof_area</td>\n",
       "      <td>0.037148</td>\n",
       "    </tr>\n",
       "    <tr>\n",
       "      <th>10</th>\n",
       "      <td>norm_slope</td>\n",
       "      <td>0.033059</td>\n",
       "    </tr>\n",
       "    <tr>\n",
       "      <th>5</th>\n",
       "      <td>median_slope</td>\n",
       "      <td>0.033002</td>\n",
       "    </tr>\n",
       "    <tr>\n",
       "      <th>3</th>\n",
       "      <td>aantal_verblijfsobjecten</td>\n",
       "      <td>0.027391</td>\n",
       "    </tr>\n",
       "    <tr>\n",
       "      <th>24</th>\n",
       "      <td>primary_use_most_restrictive_woning</td>\n",
       "      <td>0.011374</td>\n",
       "    </tr>\n",
       "    <tr>\n",
       "      <th>19</th>\n",
       "      <td>primary_use_most_restrictive_kantoor</td>\n",
       "      <td>0.006815</td>\n",
       "    </tr>\n",
       "    <tr>\n",
       "      <th>17</th>\n",
       "      <td>primary_use_most_restrictive_bijeenkomst zonde...</td>\n",
       "      <td>0.003849</td>\n",
       "    </tr>\n",
       "    <tr>\n",
       "      <th>23</th>\n",
       "      <td>primary_use_most_restrictive_winkel</td>\n",
       "      <td>0.000589</td>\n",
       "    </tr>\n",
       "    <tr>\n",
       "      <th>21</th>\n",
       "      <td>primary_use_most_restrictive_onderwijs</td>\n",
       "      <td>0.000588</td>\n",
       "    </tr>\n",
       "    <tr>\n",
       "      <th>16</th>\n",
       "      <td>primary_use_most_restrictive_bijeenkomst met k...</td>\n",
       "      <td>0.000300</td>\n",
       "    </tr>\n",
       "    <tr>\n",
       "      <th>20</th>\n",
       "      <td>primary_use_most_restrictive_logies</td>\n",
       "      <td>0.000146</td>\n",
       "    </tr>\n",
       "    <tr>\n",
       "      <th>22</th>\n",
       "      <td>primary_use_most_restrictive_sport</td>\n",
       "      <td>0.000094</td>\n",
       "    </tr>\n",
       "    <tr>\n",
       "      <th>18</th>\n",
       "      <td>primary_use_most_restrictive_cel</td>\n",
       "      <td>0.000055</td>\n",
       "    </tr>\n",
       "    <tr>\n",
       "      <th>25</th>\n",
       "      <td>primary_use_most_restrictive_zorg met bed</td>\n",
       "      <td>0.000051</td>\n",
       "    </tr>\n",
       "    <tr>\n",
       "      <th>15</th>\n",
       "      <td>already_GR</td>\n",
       "      <td>0.000000</td>\n",
       "    </tr>\n",
       "  </tbody>\n",
       "</table>\n",
       "</div>"
      ],
      "text/plain": [
       "                                              Feature  Importance\n",
       "14                           BerekendeEnergieverbruik    0.213235\n",
       "13                                BerekendeCO2Emissie    0.190026\n",
       "12                                     Warmtebehoefte    0.089277\n",
       "7                                            norm_age    0.056665\n",
       "0                                            bouwjaar    0.055507\n",
       "1                                     oppervlakte_min    0.043837\n",
       "11                                           GPS_roof    0.041028\n",
       "9                                         norm_height    0.040298\n",
       "4                                       median_height    0.039791\n",
       "2                                     oppervlakte_max    0.038697\n",
       "8                                           norm_area    0.037177\n",
       "6                                           roof_area    0.037148\n",
       "10                                         norm_slope    0.033059\n",
       "5                                        median_slope    0.033002\n",
       "3                            aantal_verblijfsobjecten    0.027391\n",
       "24                primary_use_most_restrictive_woning    0.011374\n",
       "19               primary_use_most_restrictive_kantoor    0.006815\n",
       "17  primary_use_most_restrictive_bijeenkomst zonde...    0.003849\n",
       "23                primary_use_most_restrictive_winkel    0.000589\n",
       "21             primary_use_most_restrictive_onderwijs    0.000588\n",
       "16  primary_use_most_restrictive_bijeenkomst met k...    0.000300\n",
       "20                primary_use_most_restrictive_logies    0.000146\n",
       "22                 primary_use_most_restrictive_sport    0.000094\n",
       "18                   primary_use_most_restrictive_cel    0.000055\n",
       "25          primary_use_most_restrictive_zorg met bed    0.000051\n",
       "15                                         already_GR    0.000000"
      ]
     },
     "metadata": {},
     "output_type": "display_data"
    }
   ],
   "source": [
    "# Build dataframe\n",
    "importance_df = pd.DataFrame({\n",
    "    'Feature': final_feature_names,\n",
    "    'Importance': avg_importances\n",
    "}).sort_values(by='Importance', ascending=False)\n",
    "\n",
    "display(importance_df)"
   ]
  },
  {
   "cell_type": "markdown",
   "metadata": {
    "id": "FwHFNukqENPf"
   },
   "source": [
    "it makes sense that already_GR has 0.0 as imporance as the training is all on already_GR=0"
   ]
  },
  {
   "cell_type": "code",
   "execution_count": 53,
   "metadata": {
    "colab": {
     "base_uri": "https://localhost:8080/",
     "height": 607
    },
    "id": "LSOC0Mh_wP2f",
    "outputId": "68d0b210-d6c3-4c81-9f40-27029242d650"
   },
   "outputs": [
    {
     "data": {
      "image/png": "[encoded data removed]",
      "text/plain": [
       "<Figure size 800x600 with 1 Axes>"
      ]
     },
     "metadata": {},
     "output_type": "display_data"
    }
   ],
   "source": [
    "# Plot top N most important features\n",
    "top_n = 15\n",
    "top_df = importance_df.head(top_n).sort_values(by='Importance', ascending=True)\n",
    "\n",
    "plt.figure(figsize=(8, 6))\n",
    "plt.barh(top_df['Feature'], top_df['Importance'])\n",
    "plt.xlabel(\"Average Feature Importance\")\n",
    "plt.title(f\"Top {top_n} Random Forest Features (Ensembled)\")\n",
    "plt.tight_layout()\n",
    "plt.show()\n"
   ]
  },
  {
   "cell_type": "markdown",
   "metadata": {
    "id": "nTVEtFgYZJu2"
   },
   "source": [
    "partial dependence plot"
   ]
  },
  {
   "cell_type": "code",
   "execution_count": 55,
   "metadata": {},
   "outputs": [
    {
     "name": "stdout",
     "output_type": "stream",
     "text": [
      "\n",
      "Partial Dependence for Grouped Class 0\n"
     ]
    },
    {
     "data": {
      "image/png": "[encoded data removed]",
      "text/plain": [
       "<Figure size 640x480 with 6 Axes>"
      ]
     },
     "metadata": {},
     "output_type": "display_data"
    },
    {
     "name": "stdout",
     "output_type": "stream",
     "text": [
      "\n",
      "Partial Dependence for Grouped Class 1\n"
     ]
    },
    {
     "data": {
      "image/png": "[encoded data removed]",
      "text/plain": [
       "<Figure size 640x480 with 6 Axes>"
      ]
     },
     "metadata": {},
     "output_type": "display_data"
    },
    {
     "name": "stdout",
     "output_type": "stream",
     "text": [
      "\n",
      "Partial Dependence for Grouped Class 2\n"
     ]
    },
    {
     "data": {
      "image/png": "[encoded data removed]",
      "text/plain": [
       "<Figure size 640x480 with 6 Axes>"
      ]
     },
     "metadata": {},
     "output_type": "display_data"
    }
   ],
   "source": [
    "from sklearn.inspection import PartialDependenceDisplay\n",
    "\n",
    "# Get top 5 features by importance\n",
    "top_5_features = importance_df['Feature'].head(5).tolist()\n",
    "\n",
    "# Use the raw input data (not preprocessed)\n",
    "X_sampled = pd.concat([X_train, X_test], axis=0)\n",
    "\n",
    "# Use one of the sub-estimators from the VotingClassifier (e.g. first model)\n",
    "model_for_pdp = voting_ensemble.estimators_[0]\n",
    "\n",
    "# Plot partial dependence for each of the 3 grouped labels\n",
    "for class_label in [0, 1, 2]:\n",
    "    print(f\"\\nPartial Dependence for Grouped Class {class_label}\")\n",
    "\n",
    "    PartialDependenceDisplay.from_estimator(\n",
    "        model_for_pdp,\n",
    "        X_sampled,\n",
    "        features=top_5_features,\n",
    "        kind=\"average\",\n",
    "        target=class_label,\n",
    "        grid_resolution=30,\n",
    "        n_jobs=-1  # Use all processors\n",
    "    )\n",
    "\n",
    "    plt.suptitle(f\"Partial Dependence for Grouped Class {class_label}\", fontsize=14)\n",
    "    plt.tight_layout()\n",
    "    plt.show()\n"
   ]
  },
  {
   "cell_type": "markdown",
   "metadata": {},
   "source": [
    "COUNTERFACTUAL"
   ]
  },
  {
   "cell_type": "markdown",
   "metadata": {
    "id": "WZb9ILBs4eFJ"
   },
   "source": [
    "***What would a green-roof building's energy label have been without the green roof?***"
   ]
  },
  {
   "cell_type": "markdown",
   "metadata": {
    "id": "b98Ex48GB2x0"
   },
   "source": [
    " Simulation of what label the RF thinks the building would have received without the green roof, based on its learned experience from buildings that actually don’t have green roofs, which is the RF above."
   ]
  },
  {
   "cell_type": "code",
   "execution_count": null,
   "metadata": {
    "id": "oe_7gc2dcDWC"
   },
   "outputs": [
    {
     "name": "stdout",
     "output_type": "stream",
     "text": [
      "\n",
      "Counterfactual (as if no green roof):\n",
      "Grouped Accuracy: 0.8457611386138614\n",
      "Grouped F1 Score (macro): 0.7224546800641877\n",
      "\n",
      "Grouped Classification Report:\n",
      "              precision    recall  f1-score   support\n",
      "\n",
      "           0       0.56      0.92      0.69       941\n",
      "           1       0.94      0.86      0.90      5179\n",
      "           2       0.78      0.45      0.57       344\n",
      "\n",
      "    accuracy                           0.85      6464\n",
      "   macro avg       0.76      0.74      0.72      6464\n",
      "weighted avg       0.88      0.85      0.85      6464\n",
      "\n"
     ]
    }
   ],
   "source": [
    "# Load saved ensemble model\n",
    "ensemble_model = joblib.load(\"10models/voting_ensemble.joblib\")\n",
    "\n",
    "# Prepare counterfactual test set\n",
    "# Use the same green roof test set used during training\n",
    "X_test_cf = X_test.copy()\n",
    "X_test_cf['already_GR'] = 0  # Pretend they have no green roof\n",
    "\n",
    "# Predict using ensemble\n",
    "y_cf = ensemble_model.predict(X_test_cf)\n",
    "\n",
    "# Convert to Series (optional, for labeling consistency)\n",
    "y_test_series = pd.Series(y_test)\n",
    "y_cf_series = pd.Series(y_cf)\n",
    "\n",
    "# Apply grouping to compare grouped energy labels\n",
    "y_test_grouped = y_test_series.map(group_label)\n",
    "y_cf_grouped = y_cf_series.map(group_label)\n",
    "\n",
    "# Print evaluation\n",
    "print(\"\\nCounterfactual (as if no green roof):\")\n",
    "print(\"Grouped Accuracy:\", accuracy_score(y_test_grouped, y_cf_grouped))\n",
    "print(\"Grouped F1 Score (macro):\", f1_score(y_test_grouped, y_cf_grouped, average='macro'))\n",
    "print(\"\\nGrouped Classification Report:\")\n",
    "print(classification_report(y_test_grouped, y_cf_grouped))\n"
   ]
  },
  {
   "cell_type": "code",
   "execution_count": 60,
   "metadata": {
    "id": "Jy4Av1emcTsl"
   },
   "outputs": [
    {
     "name": "stdout",
     "output_type": "stream",
     "text": [
      "\n",
      "Label Change Summary:\n",
      "Label_Change\n",
      "-2      42\n",
      "-1     283\n",
      " 0    5945\n",
      " 1     166\n",
      " 2      24\n",
      " 3       2\n",
      " 4       2\n",
      "Name: count, dtype: int64\n"
     ]
    }
   ],
   "source": [
    "# Compare shifts between original and counterfactual prediction\n",
    "comparison_df = pd.DataFrame({\n",
    "    'True_Label': y_test,\n",
    "    'Predicted_Label': y_ensemble,\n",
    "    'Counterfactual_Label': y_cf\n",
    "})\n",
    "\n",
    "# Calculate label shift (how many classes up or down)\n",
    "comparison_df['Label_Change'] = comparison_df['Counterfactual_Label'] - comparison_df['Predicted_Label']\n",
    "\n",
    "print(\"\\nLabel Change Summary:\")\n",
    "print(comparison_df['Label_Change'].value_counts().sort_index())\n"
   ]
  },
  {
   "cell_type": "markdown",
   "metadata": {
    "id": "BBdyvkSZCCMd"
   },
   "source": [
    "How to read the label change summary?\n",
    "How many buildings would have received a better (negative in the scale), worse (positive in the scale), or same (zero) label without the green roof.\n",
    "--> I would hope to see positve becuase it would mean that labels "
   ]
  },
  {
   "cell_type": "code",
   "execution_count": 62,
   "metadata": {},
   "outputs": [
    {
     "name": "stdout",
     "output_type": "stream",
     "text": [
      "Unchanged buildings: 5945\n",
      "Of those, already at best possible label: 0\n"
     ]
    }
   ],
   "source": [
    "# Filter unchanged labels\n",
    "unchanged_df = comparison_df[comparison_df['Label_Change'] == 0].copy()\n",
    "\n",
    "# Join back primary_use_most_restrictive\n",
    "unchanged_df = unchanged_df.join(\n",
    "    gdf_labeled.loc[unchanged_df.index, ['primary_use_most_restrictive']]\n",
    ")\n",
    "\n",
    "# Define max label thresholds per building type\n",
    "def at_best_label(row):\n",
    "    if row['primary_use_most_restrictive'] == 'woning':\n",
    "        return row['Predicted_Label'] <= 1  # A++++ or A+++++\n",
    "    else:\n",
    "        return row['Predicted_Label'] == 0  # Only A+++++\n",
    "\n",
    "unchanged_df['Already_Best_Label'] = unchanged_df.apply(at_best_label, axis=1)\n",
    "\n",
    "# Count how many of the unchanged were already best\n",
    "best_count = unchanged_df['Already_Best_Label'].sum()\n",
    "total_unchanged = len(unchanged_df)\n",
    "\n",
    "print(f\"Unchanged buildings: {total_unchanged}\")\n",
    "print(f\"Of those, already at best possible label: {best_count}\")"
   ]
  },
  {
   "cell_type": "markdown",
   "metadata": {
    "id": "geF9NE0-spYr"
   },
   "source": [
    "**What if buildings that currently don’t have green roofs did get one — what would their new energy label be?**"
   ]
  },
  {
   "cell_type": "code",
   "execution_count": 64,
   "metadata": {},
   "outputs": [],
   "source": [
    "# Set Save Directory\n",
    "cf2_dir = \"10models_cf2\"\n",
    "os.makedirs(cf2_dir, exist_ok=True)"
   ]
  },
  {
   "cell_type": "code",
   "execution_count": 65,
   "metadata": {},
   "outputs": [],
   "source": [
    "# Setup column preprocessing \n",
    "categorical_cols = ['primary_use_most_restrictive']\n",
    "full_cats = gdf_labeled['primary_use_most_restrictive'].dropna().unique()\n",
    "full_cats_sorted = sorted(full_cats)\n",
    "\n",
    "def build_pipeline(seed):\n",
    "    encoder = OneHotEncoder(\n",
    "        handle_unknown='ignore',\n",
    "        categories=[full_cats_sorted],\n",
    "        sparse_output=False\n",
    "    )\n",
    "\n",
    "    preprocessor = ColumnTransformer([\n",
    "        ('num', KNNImputer(n_neighbors=5), [col for col in features_energy if col not in categorical_cols]),\n",
    "        ('cat', encoder, categorical_cols)\n",
    "    ])\n",
    "\n",
    "    return Pipeline([\n",
    "        ('preprocessing', preprocessor),\n",
    "        ('classifier', RandomForestClassifier(random_state=seed, class_weight='balanced'))\n",
    "    ])"
   ]
  },
  {
   "cell_type": "code",
   "execution_count": 66,
   "metadata": {},
   "outputs": [],
   "source": [
    "n_runs = 10\n",
    "all_models_cf2 = []\n",
    "\n",
    "# Fixed test set: all 6464 already_GR == 1\n",
    "green_roof = gdf_labeled[gdf_labeled['already_GR'] == 1].copy()\n",
    "X_green = green_roof[features_energy]\n",
    "y_green = green_roof['EnergyLabel_ordinal']\n",
    "\n",
    "for i in range(n_runs):\n",
    "    # Sample 6464 from non-green roofs, stratified by EnergyLabel_ordinal\n",
    "    sampled_no_green = (\n",
    "        gdf_labeled[gdf_labeled['already_GR'] == 0]\n",
    "        .groupby('EnergyLabel_ordinal', group_keys=False)\n",
    "        .apply(lambda x: x.sample(frac=6464 / len(gdf_labeled[gdf_labeled['already_GR'] == 0]), random_state=100 + i))\n",
    "        .reset_index(drop=True)\n",
    "    )\n",
    "\n",
    "    X_no_green = sampled_no_green[features_energy]\n",
    "    y_no_green = sampled_no_green['EnergyLabel_ordinal']\n",
    "\n",
    "    # Combine green and sampled no-green data\n",
    "    X_combined = pd.concat([X_green, X_no_green], ignore_index=True).sample(frac=1.0, random_state=200 + i)\n",
    "    y_combined = pd.concat([y_green, y_no_green], ignore_index=True)\n",
    "\n",
    "    # Group labels into 3 classes for valid stratification\n",
    "    y_grouped = y_combined.map(group_label)  # group_label must be defined as shown earlier\n",
    "\n",
    "    # Split 80/20 using grouped labels for stratification\n",
    "    X_train, X_test, y_train, y_test = train_test_split(\n",
    "        X_combined,\n",
    "        y_combined,  # still train with original 12-class labels\n",
    "        test_size=0.2,\n",
    "        stratify=y_grouped,\n",
    "        random_state=300 + i\n",
    "    )\n",
    "\n",
    "    # Train model\n",
    "    model = build_pipeline(seed=400 + i)\n",
    "    model.fit(X_train, y_train)\n",
    "\n",
    "    # Save model\n",
    "    model_path = os.path.join(cf2_dir, f\"cf2_model_run_{i}.joblib\")\n",
    "    joblib.dump(model, model_path)\n",
    "    all_models_cf2.append(model)"
   ]
  },
  {
   "cell_type": "code",
   "execution_count": 67,
   "metadata": {},
   "outputs": [
    {
     "data": {
      "text/plain": [
       "['10models_cf2/voting_ensemble_cf2.joblib']"
      ]
     },
     "execution_count": 67,
     "metadata": {},
     "output_type": "execute_result"
    }
   ],
   "source": [
    "# Create and save VotingClassifier \n",
    "voting_ensemble_cf2 = VotingClassifier(\n",
    "    estimators=[(f'model_{i}', m) for i, m in enumerate(all_models_cf2)],\n",
    "    voting='hard'\n",
    ")\n",
    "\n",
    "# You can fit to dummy data (required by VotingClassifier)\n",
    "voting_ensemble_cf2.fit(X_train, y_train)\n",
    "\n",
    "# Save the ensemble\n",
    "ensemble_path = os.path.join(cf2_dir, \"voting_ensemble_cf2.joblib\")\n",
    "joblib.dump(voting_ensemble_cf2, ensemble_path)"
   ]
  },
  {
   "cell_type": "code",
   "execution_count": 68,
   "metadata": {},
   "outputs": [],
   "source": [
    "# Load the ensemble model trained for Counterfactual 2\n",
    "ensemble_model_cf2 = joblib.load(\"10models_cf2/voting_ensemble_cf2.joblib\")\n",
    "\n",
    "# Sample 6,464 non-green-roof buildings\n",
    "subset_no_green = gdf_labeled[gdf_labeled['already_GR'] == 0].sample(n=6464, random_state=42).copy()\n",
    "\n",
    "# Prepare input matrix (features only)\n",
    "X_cf = subset_no_green[features_energy].copy()\n",
    "\n",
    "# Predict baseline: without green roof\n",
    "X_cf['already_GR'] = 0\n",
    "baseline_preds = ensemble_model_cf2.predict(X_cf)\n",
    "\n",
    "# Predict counterfactual: with green roof\n",
    "X_cf['already_GR'] = 1\n",
    "with_green_preds = ensemble_model_cf2.predict(X_cf)"
   ]
  },
  {
   "cell_type": "code",
   "execution_count": 69,
   "metadata": {},
   "outputs": [
    {
     "name": "stdout",
     "output_type": "stream",
     "text": [
      "\n",
      "Grouped Label Classification Report:\n",
      "Grouped Accuracy: 0.9927289603960396\n",
      "Grouped F1 Score (macro): 0.9686100976859029\n",
      "\n",
      "               precision    recall  f1-score   support\n",
      "\n",
      "           0       0.98      0.94      0.96       231\n",
      "           1       0.99      1.00      1.00      5931\n",
      "           2       0.99      0.91      0.95       302\n",
      "\n",
      "    accuracy                           0.99      6464\n",
      "   macro avg       0.99      0.95      0.97      6464\n",
      "weighted avg       0.99      0.99      0.99      6464\n",
      "\n",
      "\n",
      "Label Change Summary:\n",
      "Label_Change\n",
      "-6       3\n",
      "-5       3\n",
      "-4       3\n",
      "-3      20\n",
      "-2      57\n",
      "-1      37\n",
      " 0    6295\n",
      " 1      27\n",
      " 2      16\n",
      " 3       3\n",
      "Name: count, dtype: int64\n"
     ]
    }
   ],
   "source": [
    "# Create comparison dataframe\n",
    "comparison_df = pd.DataFrame({\n",
    "    'Baseline_Label': baseline_preds,\n",
    "    'With_Green_Label': with_green_preds\n",
    "})\n",
    "\n",
    "# Label change magnitude \n",
    "comparison_df['Label_Change'] = comparison_df['With_Green_Label'] - comparison_df['Baseline_Label']\n",
    "\n",
    "# Group labels\n",
    "baseline_grouped = comparison_df['Baseline_Label'].map(group_label)\n",
    "with_green_grouped = comparison_df['With_Green_Label'].map(group_label)\n",
    "\n",
    "# Print metrics\n",
    "print(\"\\nGrouped Label Classification Report:\")\n",
    "print(\"Grouped Accuracy:\", accuracy_score(baseline_grouped, with_green_grouped))\n",
    "print(\"Grouped F1 Score (macro):\", f1_score(baseline_grouped, with_green_grouped, average='macro'))\n",
    "print(\"\\n\", classification_report(baseline_grouped, with_green_grouped))\n",
    "\n",
    "# Print label change summary\n",
    "print(\"\\nLabel Change Summary:\")\n",
    "print(comparison_df['Label_Change'].value_counts().sort_index())\n"
   ]
  },
  {
   "cell_type": "code",
   "execution_count": 150,
   "metadata": {},
   "outputs": [
    {
     "name": "stdout",
     "output_type": "stream",
     "text": [
      "Baseline_Label\n",
      "8     0.130137\n",
      "7     0.127389\n",
      "3     0.104478\n",
      "10    0.076923\n",
      "6     0.071287\n",
      "11    0.052632\n",
      "4     0.050000\n",
      "9     0.025316\n",
      "5     0.006660\n",
      "1     0.000000\n",
      "2     0.000000\n",
      "Name: Changed, dtype: float64\n"
     ]
    }
   ],
   "source": [
    "# Which baseline labels are most likely to change\n",
    "label_change_counts = (\n",
    "    comparison_df\n",
    "    .assign(Changed=comparison_df['Label_Change'] != 0)\n",
    "    .groupby('Baseline_Label')['Changed']\n",
    "    .mean()\n",
    "    .sort_values(ascending=False)\n",
    ")\n",
    "print(label_change_counts)"
   ]
  },
  {
   "cell_type": "code",
   "execution_count": 152,
   "metadata": {},
   "outputs": [],
   "source": [
    "# Add primary use info from the original dataset\n",
    "comparison_df = comparison_df.join(\n",
    "    gdf_labeled[['primary_use_most_restrictive']],\n",
    "    how='left'\n",
    ")"
   ]
  },
  {
   "cell_type": "code",
   "execution_count": 154,
   "metadata": {},
   "outputs": [
    {
     "name": "stdout",
     "output_type": "stream",
     "text": [
      "primary_use_most_restrictive\n",
      "logies                                  0.153846\n",
      "onderwijs                               0.050000\n",
      "kantoor                                 0.036364\n",
      "woning                                  0.026435\n",
      "bijeenkomst zonder kinderdagverblijf    0.026217\n",
      "winkel                                  0.012987\n",
      "bijeenkomst met kinderdagverblijf       0.000000\n",
      "zorg met bed                            0.000000\n",
      "Name: Changed, dtype: float64\n"
     ]
    }
   ],
   "source": [
    "# Which primary use types are most likely to change?\n",
    "primary_use_change = (\n",
    "    comparison_df\n",
    "    .assign(Changed=comparison_df['Label_Change'] != 0)\n",
    "    .groupby('primary_use_most_restrictive')['Changed']\n",
    "    .mean()\n",
    "    .sort_values(ascending=False)\n",
    ")\n",
    "print(primary_use_change)"
   ]
  },
  {
   "cell_type": "markdown",
   "metadata": {
    "id": "PaYMZVnIDBGc"
   },
   "source": [
    "# RQ4 and RQ5"
   ]
  },
  {
   "cell_type": "code",
   "execution_count": 71,
   "metadata": {},
   "outputs": [],
   "source": [
    "# Load CF2 ensemble model trained on both green and non-green roofs\n",
    "ensemble_model_cf2 = joblib.load(\"10models_cf2/voting_ensemble_cf2.joblib\")\n",
    "\n",
    "# Select features from unlabeled data\n",
    "X_unlabeled = gdf_unlabeled[features_energy].copy()\n",
    "\n",
    "# Predict energy labels for all unlabeled rows (mixed GR and non-GR)\n",
    "preds_unlabeled = ensemble_model_cf2.predict(X_unlabeled)\n",
    "gdf_unlabeled['Predicted_EnergyLabel_ordinal'] = preds_unlabeled\n",
    "\n",
    "# Convert back to categorical label\n",
    "reverse_energy_order = {v: k for k, v in energy_order.items()}\n",
    "gdf_unlabeled['Predicted_Energielabel'] = gdf_unlabeled['Predicted_EnergyLabel_ordinal'].map(reverse_energy_order)"
   ]
  },
  {
   "cell_type": "code",
   "execution_count": 72,
   "metadata": {
    "id": "dhE33rf7v6sH"
   },
   "outputs": [],
   "source": [
    "gdf_unlabeled['Roof_insulation'] = gdf_unlabeled['Predicted_Energielabel'].apply(classify_roof_insulation)\n",
    "gdf_unlabeled['primary_use_most_restrictive'] = gdf_unlabeled.apply(\n",
    "    lambda row: get_most_restrictive_use(row['gebruiksdoel'], row['Predicted_Energielabel']),\n",
    "    axis=1\n",
    ")"
   ]
  },
  {
   "cell_type": "code",
   "execution_count": 73,
   "metadata": {
    "id": "goECkLr-TmDh"
   },
   "outputs": [],
   "source": [
    "def retrieve_mean_consumption_pred(row):\n",
    "    building_type = row['primary_use_most_restrictive']\n",
    "    label = row['Predicted_Energielabel']\n",
    "    if pd.isna(building_type) or pd.isna(label):\n",
    "        return np.nan\n",
    "    key = (building_type.capitalize(), str(label).upper())\n",
    "    return mean_consumption_lookup.get(key, np.nan)\n",
    "\n",
    "gdf_unlabeled['Mean_Consumption_m2'] = gdf_unlabeled.apply(retrieve_mean_consumption_pred, axis=1)\n",
    "gdf_unlabeled['EnergyLabel_ordinal'] = gdf_unlabeled['Predicted_EnergyLabel_ordinal']\n",
    "gdf_unlabeled['Label_is_predicted'] = True\n",
    "\n",
    "gdf_combined = pd.concat([gdf_labeled.assign(Label_is_predicted=False), gdf_unlabeled], ignore_index=True)"
   ]
  },
  {
   "cell_type": "code",
   "execution_count": 74,
   "metadata": {
    "id": "od04o_LvoG-q"
   },
   "outputs": [],
   "source": [
    "# Then make the duplicated splits for comparison\n",
    "gdf_combined['Predicted_EnergyLabel_ordinal_8020'] = gdf_combined['Predicted_EnergyLabel_ordinal']\n",
    "gdf_combined['Predicted_Energielabel_8020'] = gdf_combined['Predicted_EnergyLabel_ordinal_8020'].map(reverse_energy_order)\n",
    "\n",
    "gdf_combined['Predicted_EnergyLabel_ordinal_6535'] = gdf_combined['Predicted_EnergyLabel_ordinal']\n",
    "gdf_combined['Predicted_Energielabel_6535'] = gdf_combined['Predicted_EnergyLabel_ordinal_6535'].map(reverse_energy_order)"
   ]
  },
  {
   "cell_type": "code",
   "execution_count": null,
   "metadata": {
    "id": "XjPfojvRHNIL"
   },
   "outputs": [],
   "source": [
    "# Load reduction values from included CSV\n",
    "df2 = pd.read_csv('data/heating_coolig_reductions.csv')\n",
    "df2['% Reduction'] = df2['% Reduction'].astype(str).str.replace('%', '').astype(float) / 100\n",
    "\n",
    "reduction_dict = {}\n",
    "for _, row in df2.iterrows():\n",
    "    key = (row['Scenario'], row['Type'], row['Roof Type'])\n",
    "    reduction_dict[key] = row['% Reduction']\n",
    "\n",
    "# Estimate adjusted consumption\n",
    "def estimate_retrofitted_consumption(row, roof_type):\n",
    "    if pd.isna(row['Mean_Consumption_m2']):\n",
    "        return np.nan\n",
    "    insulation_status = 'Insulated' if row['Roof_insulation'] == 1 else 'Uninsulated'\n",
    "    base_consumption = row['Mean_Consumption_m2']\n",
    "    heating_share = 0.8\n",
    "    cooling_share = 0.2\n",
    "    heating_reduction = reduction_dict.get((insulation_status, 'Heating', roof_type), 0)\n",
    "    cooling_reduction = reduction_dict.get((insulation_status, 'Cooling', roof_type), 0)\n",
    "    adjusted = base_consumption * (\n",
    "        heating_share * (1 - heating_reduction) +\n",
    "        cooling_share * (1 - cooling_reduction)\n",
    "    )\n",
    "    return adjusted"
   ]
  },
  {
   "cell_type": "code",
   "execution_count": 76,
   "metadata": {
    "id": "6Mq2M5u45-cx"
   },
   "outputs": [],
   "source": [
    "def estimate_retrofitted_consumption_custom(row, roof_type, heating_share=0.65, cooling_share=0.35):\n",
    "    if pd.isna(row['Mean_Consumption_m2']):\n",
    "        return np.nan\n",
    "    insulation_status = 'Insulated' if row['Roof_insulation'] == 1 else 'Uninsulated'\n",
    "    base_consumption = row['Mean_Consumption_m2']\n",
    "    heating_reduction = reduction_dict.get((insulation_status, 'Heating', roof_type), 0)\n",
    "    cooling_reduction = reduction_dict.get((insulation_status, 'Cooling', roof_type), 0)\n",
    "    adjusted = base_consumption * (\n",
    "        heating_share * (1 - heating_reduction) +\n",
    "        cooling_share * (1 - cooling_reduction)\n",
    "    )\n",
    "    return adjusted"
   ]
  },
  {
   "cell_type": "code",
   "execution_count": 77,
   "metadata": {
    "id": "qd_1qHj66rDv"
   },
   "outputs": [],
   "source": [
    "# Apply adjustments for 80/20 and 65/35\n",
    "gdf_combined['Adjusted_Consumption_Green'] = np.where(\n",
    "    gdf_combined['already_GR'] != 1,\n",
    "    gdf_combined.apply(lambda row: estimate_retrofitted_consumption(row, 'Green Roof'), axis=1),\n",
    "    np.nan\n",
    ")\n",
    "gdf_combined['Adjusted_Consumption_DryGreen'] = np.where(\n",
    "    gdf_combined['already_GR'] != 1,\n",
    "    gdf_combined.apply(lambda row: estimate_retrofitted_consumption(row, 'Dry Green Roof'), axis=1),\n",
    "    np.nan\n",
    ")\n",
    "gdf_combined['Adjusted_Consumption_Green_6535'] = np.where(\n",
    "    gdf_combined['already_GR'] != 1,\n",
    "    gdf_combined.apply(lambda row: estimate_retrofitted_consumption_custom(row, 'Green Roof', 0.65, 0.35), axis=1),\n",
    "    np.nan\n",
    ")\n",
    "gdf_combined['Adjusted_Consumption_DryGreen_6535'] = np.where(\n",
    "    gdf_combined['already_GR'] != 1,\n",
    "    gdf_combined.apply(lambda row: estimate_retrofitted_consumption_custom(row, 'Dry Green Roof', 0.65, 0.35), axis=1),\n",
    "    np.nan\n",
    ")"
   ]
  },
  {
   "cell_type": "code",
   "execution_count": 78,
   "metadata": {
    "id": "UhKuAvMOHj0W"
   },
   "outputs": [],
   "source": [
    "# Create the label_ranges lookup table\n",
    "label_ranges = long_df[['Building_Type', 'Label', 'Min_Consumption', 'Max_Consumption']].dropna()"
   ]
  },
  {
   "cell_type": "code",
   "execution_count": 79,
   "metadata": {
    "id": "rCDjgoQy6zqN"
   },
   "outputs": [],
   "source": [
    "# Convert to energy labels\n",
    "def get_label_from_consumption(consumption, building_type):\n",
    "    if pd.isna(consumption) or pd.isna(building_type):\n",
    "        return np.nan\n",
    "    building_type = building_type.capitalize()\n",
    "    matching_rows = label_ranges[label_ranges['Building_Type'] == building_type]\n",
    "    for _, row in matching_rows.iterrows():\n",
    "        if row['Min_Consumption'] <= consumption <= row['Max_Consumption']:\n",
    "            return row['Label']\n",
    "    return np.nan"
   ]
  },
  {
   "cell_type": "code",
   "execution_count": 80,
   "metadata": {
    "id": "lEEbxdIm62uJ"
   },
   "outputs": [],
   "source": [
    "gdf_combined['EnergyLabel_Adjusted_Green'] = gdf_combined.apply(\n",
    "    lambda row: get_label_from_consumption(row['Adjusted_Consumption_Green'], row['primary_use_most_restrictive']), axis=1)\n",
    "gdf_combined['EnergyLabel_Adjusted_DryGreen'] = gdf_combined.apply(\n",
    "    lambda row: get_label_from_consumption(row['Adjusted_Consumption_DryGreen'], row['primary_use_most_restrictive']), axis=1)\n",
    "gdf_combined['EnergyLabel_Adjusted_Green_6535'] = gdf_combined.apply(\n",
    "    lambda row: get_label_from_consumption(row['Adjusted_Consumption_Green_6535'], row['primary_use_most_restrictive']), axis=1)\n",
    "gdf_combined['EnergyLabel_Adjusted_DryGreen_6535'] = gdf_combined.apply(\n",
    "    lambda row: get_label_from_consumption(row['Adjusted_Consumption_DryGreen_6535'], row['primary_use_most_restrictive']), axis=1)"
   ]
  },
  {
   "cell_type": "code",
   "execution_count": 81,
   "metadata": {},
   "outputs": [],
   "source": [
    "gdf_combined['Label_Before_8020'] = gdf_combined['Energielabel'].fillna(gdf_combined['Predicted_Energielabel_8020'])\n",
    "gdf_combined['Label_Before_6535'] = gdf_combined['Energielabel'].fillna(gdf_combined['Predicted_Energielabel_6535'])"
   ]
  },
  {
   "cell_type": "code",
   "execution_count": 82,
   "metadata": {},
   "outputs": [],
   "source": [
    "# Label to ordinal score mapping\n",
    "label_order = ['A+++++', 'A++++', 'A+++', 'A++', 'A+', 'A', 'B', 'C', 'D', 'E', 'F', 'G']\n",
    "label_to_score = {label: i + 1 for i, label in enumerate(label_order)}\n",
    "\n",
    "# Before retrofit\n",
    "gdf_combined['Score_Before_8020'] = gdf_combined['Label_Before_8020'].map(label_to_score)\n",
    "gdf_combined['Score_Before_6535'] = gdf_combined['Label_Before_6535'].map(label_to_score)\n",
    "\n",
    "# After retrofit - Green Roof\n",
    "gdf_combined['Score_Adjusted_Green'] = gdf_combined['EnergyLabel_Adjusted_Green'].map(label_to_score)\n",
    "gdf_combined['Score_Adjusted_Green_6535'] = gdf_combined['EnergyLabel_Adjusted_Green_6535'].map(label_to_score)\n",
    "\n",
    "# After retrofit - Dry Green Roof\n",
    "gdf_combined['Score_Adjusted_DryGreen'] = gdf_combined['EnergyLabel_Adjusted_DryGreen'].map(label_to_score)\n",
    "gdf_combined['Score_Adjusted_DryGreen_6535'] = gdf_combined['EnergyLabel_Adjusted_DryGreen_6535'].map(label_to_score)\n",
    "\n",
    "# Label shifts\n",
    "gdf_combined['Label_Diff_Green'] = gdf_combined['Score_Before_8020'] - gdf_combined['Score_Adjusted_Green']\n",
    "gdf_combined['Label_Diff_Green_6535'] = gdf_combined['Score_Before_6535'] - gdf_combined['Score_Adjusted_Green_6535']\n",
    "gdf_combined['Label_Diff_DryGreen'] = gdf_combined['Score_Before_8020'] - gdf_combined['Score_Adjusted_DryGreen']\n",
    "gdf_combined['Label_Diff_DryGreen_6535'] = gdf_combined['Score_Before_6535'] - gdf_combined['Score_Adjusted_DryGreen_6535']\n"
   ]
  },
  {
   "cell_type": "code",
   "execution_count": 83,
   "metadata": {},
   "outputs": [
    {
     "name": "stdout",
     "output_type": "stream",
     "text": [
      "Green Roof Retrofit Summary\n"
     ]
    },
    {
     "data": {
      "text/html": [
       "<div>\n",
       "<style scoped>\n",
       "    .dataframe tbody tr th:only-of-type {\n",
       "        vertical-align: middle;\n",
       "    }\n",
       "\n",
       "    .dataframe tbody tr th {\n",
       "        vertical-align: top;\n",
       "    }\n",
       "\n",
       "    .dataframe thead th {\n",
       "        text-align: right;\n",
       "    }\n",
       "</style>\n",
       "<table border=\"1\" class=\"dataframe\">\n",
       "  <thead>\n",
       "    <tr style=\"text-align: right;\">\n",
       "      <th></th>\n",
       "      <th>Total buildings</th>\n",
       "      <th>Improved (any)</th>\n",
       "      <th>Stayed the same</th>\n",
       "      <th>Improved by 1</th>\n",
       "      <th>Improved by 2</th>\n",
       "      <th>Improved by 3+</th>\n",
       "    </tr>\n",
       "  </thead>\n",
       "  <tbody>\n",
       "    <tr>\n",
       "      <th>Green Roof (80/20)</th>\n",
       "      <td>452616</td>\n",
       "      <td>86557</td>\n",
       "      <td>366059</td>\n",
       "      <td>74407</td>\n",
       "      <td>12150</td>\n",
       "      <td>0</td>\n",
       "    </tr>\n",
       "    <tr>\n",
       "      <th>Green Roof (65/35)</th>\n",
       "      <td>452616</td>\n",
       "      <td>86557</td>\n",
       "      <td>366059</td>\n",
       "      <td>74233</td>\n",
       "      <td>12324</td>\n",
       "      <td>0</td>\n",
       "    </tr>\n",
       "  </tbody>\n",
       "</table>\n",
       "</div>"
      ],
      "text/plain": [
       "                    Total buildings  Improved (any)  Stayed the same  \\\n",
       "Green Roof (80/20)           452616           86557           366059   \n",
       "Green Roof (65/35)           452616           86557           366059   \n",
       "\n",
       "                    Improved by 1  Improved by 2  Improved by 3+  \n",
       "Green Roof (80/20)          74407          12150               0  \n",
       "Green Roof (65/35)          74233          12324               0  "
      ]
     },
     "metadata": {},
     "output_type": "display_data"
    },
    {
     "name": "stdout",
     "output_type": "stream",
     "text": [
      "Dry Green Roof Retrofit Summary\n"
     ]
    },
    {
     "data": {
      "text/html": [
       "<div>\n",
       "<style scoped>\n",
       "    .dataframe tbody tr th:only-of-type {\n",
       "        vertical-align: middle;\n",
       "    }\n",
       "\n",
       "    .dataframe tbody tr th {\n",
       "        vertical-align: top;\n",
       "    }\n",
       "\n",
       "    .dataframe thead th {\n",
       "        text-align: right;\n",
       "    }\n",
       "</style>\n",
       "<table border=\"1\" class=\"dataframe\">\n",
       "  <thead>\n",
       "    <tr style=\"text-align: right;\">\n",
       "      <th></th>\n",
       "      <th>Total buildings</th>\n",
       "      <th>Improved (any)</th>\n",
       "      <th>Stayed the same</th>\n",
       "      <th>Improved by 1</th>\n",
       "      <th>Improved by 2</th>\n",
       "      <th>Improved by 3+</th>\n",
       "    </tr>\n",
       "  </thead>\n",
       "  <tbody>\n",
       "    <tr>\n",
       "      <th>Dry Green Roof (80/20)</th>\n",
       "      <td>452616</td>\n",
       "      <td>86557</td>\n",
       "      <td>366059</td>\n",
       "      <td>74480</td>\n",
       "      <td>12077</td>\n",
       "      <td>0</td>\n",
       "    </tr>\n",
       "    <tr>\n",
       "      <th>Dry Green Roof (65/35)</th>\n",
       "      <td>452616</td>\n",
       "      <td>86557</td>\n",
       "      <td>366059</td>\n",
       "      <td>74233</td>\n",
       "      <td>12324</td>\n",
       "      <td>0</td>\n",
       "    </tr>\n",
       "  </tbody>\n",
       "</table>\n",
       "</div>"
      ],
      "text/plain": [
       "                        Total buildings  Improved (any)  Stayed the same  \\\n",
       "Dry Green Roof (80/20)           452616           86557           366059   \n",
       "Dry Green Roof (65/35)           452616           86557           366059   \n",
       "\n",
       "                        Improved by 1  Improved by 2  Improved by 3+  \n",
       "Dry Green Roof (80/20)          74480          12077               0  \n",
       "Dry Green Roof (65/35)          74233          12324               0  "
      ]
     },
     "metadata": {},
     "output_type": "display_data"
    },
    {
     "data": {
      "image/png": "[encoded data removed]",
      "text/plain": [
       "<Figure size 1400x1000 with 4 Axes>"
      ]
     },
     "metadata": {},
     "output_type": "display_data"
    }
   ],
   "source": [
    "import pandas as pd\n",
    "import matplotlib.pyplot as plt\n",
    "\n",
    "def summarize_label_diff(series, label=\"\"):\n",
    "    summary = {\n",
    "        \"Total buildings\": len(series.dropna()),\n",
    "        \"Improved (any)\": (series > 0).sum(),\n",
    "        \"Stayed the same\": (series == 0).sum(),\n",
    "        \"Improved by 1\": (series == 1).sum(),\n",
    "        \"Improved by 2\": (series == 2).sum(),\n",
    "        \"Improved by 3+\": (series >= 3).sum(),\n",
    "    }\n",
    "    return pd.DataFrame(summary, index=[label])\n",
    "\n",
    "# Summary tables\n",
    "summary_8020_green = summarize_label_diff(gdf_combined['Label_Diff_Green'], label=\"Green Roof (80/20)\")\n",
    "summary_6535_green = summarize_label_diff(gdf_combined['Label_Diff_Green_6535'], label=\"Green Roof (65/35)\")\n",
    "summary_8020_dry   = summarize_label_diff(gdf_combined['Label_Diff_DryGreen'], label=\"Dry Green Roof (80/20)\")\n",
    "summary_6535_dry   = summarize_label_diff(gdf_combined['Label_Diff_DryGreen_6535'], label=\"Dry Green Roof (65/35)\")\n",
    "\n",
    "summary_table_green = pd.concat([summary_8020_green, summary_6535_green])\n",
    "summary_table_dry   = pd.concat([summary_8020_dry, summary_6535_dry])\n",
    "\n",
    "print(\"Green Roof Retrofit Summary\")\n",
    "display(summary_table_green)\n",
    "\n",
    "print(\"Dry Green Roof Retrofit Summary\")\n",
    "display(summary_table_dry)\n",
    "\n",
    "# Barplots for Label Diff Distribution \n",
    "fig, axes = plt.subplots(2, 2, figsize=(14, 10), sharey=True)\n",
    "\n",
    "# Green Roof\n",
    "gdf_combined['Label_Diff_Green'].value_counts().sort_index().plot(kind='bar', ax=axes[0, 0])\n",
    "axes[0, 0].set_title(\"Green Roof (80/20)\")\n",
    "axes[0, 0].set_xlabel(\"Label Improvement\")\n",
    "axes[0, 0].set_ylabel(\"Number of Buildings\")\n",
    "axes[0, 0].grid(axis='y')\n",
    "\n",
    "gdf_combined['Label_Diff_Green_6535'].value_counts().sort_index().plot(kind='bar', ax=axes[0, 1])\n",
    "axes[0, 1].set_title(\"Green Roof (65/35)\")\n",
    "axes[0, 1].set_xlabel(\"Label Improvement\")\n",
    "axes[0, 1].grid(axis='y')\n",
    "\n",
    "# Dry Green Roof\n",
    "gdf_combined['Label_Diff_DryGreen'].value_counts().sort_index().plot(kind='bar', ax=axes[1, 0])\n",
    "axes[1, 0].set_title(\"Dry Green Roof (80/20)\")\n",
    "axes[1, 0].set_xlabel(\"Label Improvement\")\n",
    "axes[1, 0].set_ylabel(\"Number of Buildings\")\n",
    "axes[1, 0].grid(axis='y')\n",
    "\n",
    "gdf_combined['Label_Diff_DryGreen_6535'].value_counts().sort_index().plot(kind='bar', ax=axes[1, 1])\n",
    "axes[1, 1].set_title(\"Dry Green Roof (65/35)\")\n",
    "axes[1, 1].set_xlabel(\"Label Improvement\")\n",
    "axes[1, 1].grid(axis='y')\n",
    "\n",
    "plt.tight_layout()\n",
    "plt.show()\n"
   ]
  },
  {
   "cell_type": "code",
   "execution_count": 160,
   "metadata": {},
   "outputs": [
    {
     "data": {
      "text/html": [
       "<div>\n",
       "<style scoped>\n",
       "    .dataframe tbody tr th:only-of-type {\n",
       "        vertical-align: middle;\n",
       "    }\n",
       "\n",
       "    .dataframe tbody tr th {\n",
       "        vertical-align: top;\n",
       "    }\n",
       "\n",
       "    .dataframe thead tr th {\n",
       "        text-align: left;\n",
       "    }\n",
       "</style>\n",
       "<table border=\"1\" class=\"dataframe\">\n",
       "  <thead>\n",
       "    <tr>\n",
       "      <th></th>\n",
       "      <th colspan=\"2\" halign=\"left\">Green Roof (80/20)</th>\n",
       "      <th colspan=\"2\" halign=\"left\">Green Roof (65/35)</th>\n",
       "      <th colspan=\"2\" halign=\"left\">Dry Green Roof (80/20)</th>\n",
       "      <th colspan=\"2\" halign=\"left\">Dry Green Roof (65/35)</th>\n",
       "    </tr>\n",
       "    <tr>\n",
       "      <th></th>\n",
       "      <th>Count</th>\n",
       "      <th>Percentage</th>\n",
       "      <th>Count</th>\n",
       "      <th>Percentage</th>\n",
       "      <th>Count</th>\n",
       "      <th>Percentage</th>\n",
       "      <th>Count</th>\n",
       "      <th>Percentage</th>\n",
       "    </tr>\n",
       "  </thead>\n",
       "  <tbody>\n",
       "    <tr>\n",
       "      <th>D</th>\n",
       "      <td>42920</td>\n",
       "      <td>0.4959</td>\n",
       "      <td>42920</td>\n",
       "      <td>0.4959</td>\n",
       "      <td>42920</td>\n",
       "      <td>0.4959</td>\n",
       "      <td>42920</td>\n",
       "      <td>0.4959</td>\n",
       "    </tr>\n",
       "    <tr>\n",
       "      <th>E</th>\n",
       "      <td>21220</td>\n",
       "      <td>0.2452</td>\n",
       "      <td>21220</td>\n",
       "      <td>0.2452</td>\n",
       "      <td>21220</td>\n",
       "      <td>0.2452</td>\n",
       "      <td>21220</td>\n",
       "      <td>0.2452</td>\n",
       "    </tr>\n",
       "    <tr>\n",
       "      <th>G</th>\n",
       "      <td>12011</td>\n",
       "      <td>0.1388</td>\n",
       "      <td>12011</td>\n",
       "      <td>0.1388</td>\n",
       "      <td>12011</td>\n",
       "      <td>0.1388</td>\n",
       "      <td>12011</td>\n",
       "      <td>0.1388</td>\n",
       "    </tr>\n",
       "    <tr>\n",
       "      <th>F</th>\n",
       "      <td>10406</td>\n",
       "      <td>0.1202</td>\n",
       "      <td>10406</td>\n",
       "      <td>0.1202</td>\n",
       "      <td>10406</td>\n",
       "      <td>0.1202</td>\n",
       "      <td>10406</td>\n",
       "      <td>0.1202</td>\n",
       "    </tr>\n",
       "  </tbody>\n",
       "</table>\n",
       "</div>"
      ],
      "text/plain": [
       "  Green Roof (80/20)            Green Roof (65/35)             \\\n",
       "               Count Percentage              Count Percentage   \n",
       "D              42920     0.4959              42920     0.4959   \n",
       "E              21220     0.2452              21220     0.2452   \n",
       "G              12011     0.1388              12011     0.1388   \n",
       "F              10406     0.1202              10406     0.1202   \n",
       "\n",
       "  Dry Green Roof (80/20)            Dry Green Roof (65/35)             \n",
       "                   Count Percentage                  Count Percentage  \n",
       "D                  42920     0.4959                  42920     0.4959  \n",
       "E                  21220     0.2452                  21220     0.2452  \n",
       "G                  12011     0.1388                  12011     0.1388  \n",
       "F                  10406     0.1202                  10406     0.1202  "
      ]
     },
     "metadata": {},
     "output_type": "display_data"
    },
    {
     "data": {
      "text/html": [
       "<div>\n",
       "<style scoped>\n",
       "    .dataframe tbody tr th:only-of-type {\n",
       "        vertical-align: middle;\n",
       "    }\n",
       "\n",
       "    .dataframe tbody tr th {\n",
       "        vertical-align: top;\n",
       "    }\n",
       "\n",
       "    .dataframe thead tr th {\n",
       "        text-align: left;\n",
       "    }\n",
       "\n",
       "    .dataframe thead tr:last-of-type th {\n",
       "        text-align: right;\n",
       "    }\n",
       "</style>\n",
       "<table border=\"1\" class=\"dataframe\">\n",
       "  <thead>\n",
       "    <tr>\n",
       "      <th></th>\n",
       "      <th colspan=\"2\" halign=\"left\">Green Roof (80/20)</th>\n",
       "      <th colspan=\"2\" halign=\"left\">Green Roof (65/35)</th>\n",
       "      <th colspan=\"2\" halign=\"left\">Dry Green Roof (80/20)</th>\n",
       "      <th colspan=\"2\" halign=\"left\">Dry Green Roof (65/35)</th>\n",
       "    </tr>\n",
       "    <tr>\n",
       "      <th></th>\n",
       "      <th>Count</th>\n",
       "      <th>Percentage</th>\n",
       "      <th>Count</th>\n",
       "      <th>Percentage</th>\n",
       "      <th>Count</th>\n",
       "      <th>Percentage</th>\n",
       "      <th>Count</th>\n",
       "      <th>Percentage</th>\n",
       "    </tr>\n",
       "    <tr>\n",
       "      <th>primary_use_most_restrictive</th>\n",
       "      <th></th>\n",
       "      <th></th>\n",
       "      <th></th>\n",
       "      <th></th>\n",
       "      <th></th>\n",
       "      <th></th>\n",
       "      <th></th>\n",
       "      <th></th>\n",
       "    </tr>\n",
       "  </thead>\n",
       "  <tbody>\n",
       "    <tr>\n",
       "      <th>woning</th>\n",
       "      <td>84759</td>\n",
       "      <td>0.9792</td>\n",
       "      <td>84759</td>\n",
       "      <td>0.9792</td>\n",
       "      <td>84759</td>\n",
       "      <td>0.9792</td>\n",
       "      <td>84759</td>\n",
       "      <td>0.9792</td>\n",
       "    </tr>\n",
       "    <tr>\n",
       "      <th>kantoor</th>\n",
       "      <td>533</td>\n",
       "      <td>0.0062</td>\n",
       "      <td>533</td>\n",
       "      <td>0.0062</td>\n",
       "      <td>533</td>\n",
       "      <td>0.0062</td>\n",
       "      <td>533</td>\n",
       "      <td>0.0062</td>\n",
       "    </tr>\n",
       "    <tr>\n",
       "      <th>bijeenkomst zonder kinderdagverblijf</th>\n",
       "      <td>509</td>\n",
       "      <td>0.0059</td>\n",
       "      <td>509</td>\n",
       "      <td>0.0059</td>\n",
       "      <td>509</td>\n",
       "      <td>0.0059</td>\n",
       "      <td>509</td>\n",
       "      <td>0.0059</td>\n",
       "    </tr>\n",
       "    <tr>\n",
       "      <th>winkel</th>\n",
       "      <td>216</td>\n",
       "      <td>0.0025</td>\n",
       "      <td>216</td>\n",
       "      <td>0.0025</td>\n",
       "      <td>216</td>\n",
       "      <td>0.0025</td>\n",
       "      <td>216</td>\n",
       "      <td>0.0025</td>\n",
       "    </tr>\n",
       "    <tr>\n",
       "      <th>bijeenkomst met kinderdagverblijf</th>\n",
       "      <td>216</td>\n",
       "      <td>0.0025</td>\n",
       "      <td>216</td>\n",
       "      <td>0.0025</td>\n",
       "      <td>216</td>\n",
       "      <td>0.0025</td>\n",
       "      <td>216</td>\n",
       "      <td>0.0025</td>\n",
       "    </tr>\n",
       "    <tr>\n",
       "      <th>onderwijs</th>\n",
       "      <td>120</td>\n",
       "      <td>0.0014</td>\n",
       "      <td>120</td>\n",
       "      <td>0.0014</td>\n",
       "      <td>120</td>\n",
       "      <td>0.0014</td>\n",
       "      <td>120</td>\n",
       "      <td>0.0014</td>\n",
       "    </tr>\n",
       "    <tr>\n",
       "      <th>logies</th>\n",
       "      <td>97</td>\n",
       "      <td>0.0011</td>\n",
       "      <td>97</td>\n",
       "      <td>0.0011</td>\n",
       "      <td>97</td>\n",
       "      <td>0.0011</td>\n",
       "      <td>97</td>\n",
       "      <td>0.0011</td>\n",
       "    </tr>\n",
       "    <tr>\n",
       "      <th>sport</th>\n",
       "      <td>52</td>\n",
       "      <td>0.0006</td>\n",
       "      <td>52</td>\n",
       "      <td>0.0006</td>\n",
       "      <td>52</td>\n",
       "      <td>0.0006</td>\n",
       "      <td>52</td>\n",
       "      <td>0.0006</td>\n",
       "    </tr>\n",
       "    <tr>\n",
       "      <th>zorg met bed</th>\n",
       "      <td>52</td>\n",
       "      <td>0.0006</td>\n",
       "      <td>52</td>\n",
       "      <td>0.0006</td>\n",
       "      <td>52</td>\n",
       "      <td>0.0006</td>\n",
       "      <td>52</td>\n",
       "      <td>0.0006</td>\n",
       "    </tr>\n",
       "    <tr>\n",
       "      <th>cel</th>\n",
       "      <td>3</td>\n",
       "      <td>0.0000</td>\n",
       "      <td>3</td>\n",
       "      <td>0.0000</td>\n",
       "      <td>3</td>\n",
       "      <td>0.0000</td>\n",
       "      <td>3</td>\n",
       "      <td>0.0000</td>\n",
       "    </tr>\n",
       "  </tbody>\n",
       "</table>\n",
       "</div>"
      ],
      "text/plain": [
       "                                     Green Roof (80/20)             \\\n",
       "                                                  Count Percentage   \n",
       "primary_use_most_restrictive                                         \n",
       "woning                                            84759     0.9792   \n",
       "kantoor                                             533     0.0062   \n",
       "bijeenkomst zonder kinderdagverblijf                509     0.0059   \n",
       "winkel                                              216     0.0025   \n",
       "bijeenkomst met kinderdagverblijf                   216     0.0025   \n",
       "onderwijs                                           120     0.0014   \n",
       "logies                                               97     0.0011   \n",
       "sport                                                52     0.0006   \n",
       "zorg met bed                                         52     0.0006   \n",
       "cel                                                   3     0.0000   \n",
       "\n",
       "                                     Green Roof (65/35)             \\\n",
       "                                                  Count Percentage   \n",
       "primary_use_most_restrictive                                         \n",
       "woning                                            84759     0.9792   \n",
       "kantoor                                             533     0.0062   \n",
       "bijeenkomst zonder kinderdagverblijf                509     0.0059   \n",
       "winkel                                              216     0.0025   \n",
       "bijeenkomst met kinderdagverblijf                   216     0.0025   \n",
       "onderwijs                                           120     0.0014   \n",
       "logies                                               97     0.0011   \n",
       "sport                                                52     0.0006   \n",
       "zorg met bed                                         52     0.0006   \n",
       "cel                                                   3     0.0000   \n",
       "\n",
       "                                     Dry Green Roof (80/20)             \\\n",
       "                                                      Count Percentage   \n",
       "primary_use_most_restrictive                                             \n",
       "woning                                                84759     0.9792   \n",
       "kantoor                                                 533     0.0062   \n",
       "bijeenkomst zonder kinderdagverblijf                    509     0.0059   \n",
       "winkel                                                  216     0.0025   \n",
       "bijeenkomst met kinderdagverblijf                       216     0.0025   \n",
       "onderwijs                                               120     0.0014   \n",
       "logies                                                   97     0.0011   \n",
       "sport                                                    52     0.0006   \n",
       "zorg met bed                                             52     0.0006   \n",
       "cel                                                       3     0.0000   \n",
       "\n",
       "                                     Dry Green Roof (65/35)             \n",
       "                                                      Count Percentage  \n",
       "primary_use_most_restrictive                                            \n",
       "woning                                                84759     0.9792  \n",
       "kantoor                                                 533     0.0062  \n",
       "bijeenkomst zonder kinderdagverblijf                    509     0.0059  \n",
       "winkel                                                  216     0.0025  \n",
       "bijeenkomst met kinderdagverblijf                       216     0.0025  \n",
       "onderwijs                                               120     0.0014  \n",
       "logies                                                   97     0.0011  \n",
       "sport                                                    52     0.0006  \n",
       "zorg met bed                                             52     0.0006  \n",
       "cel                                                       3     0.0000  "
      ]
     },
     "metadata": {},
     "output_type": "display_data"
    }
   ],
   "source": [
    "def summarize_improvements_by(df, diff_col, group_col):\n",
    "    \"\"\"Return absolute and relative value counts of improvements (>0) grouped by a given column.\"\"\"\n",
    "    improvements = df[df[diff_col] > 0]\n",
    "    counts = improvements[group_col].value_counts()\n",
    "    percentages = counts / counts.sum()\n",
    "    return pd.DataFrame({'Count': counts, 'Percentage': percentages})\n",
    "\n",
    "# Run summaries by label\n",
    "label_improvements = {\n",
    "    scenario: summarize_improvements_by(gdf_combined, diff_col, group_col)\n",
    "    for scenario, (diff_col, group_col) in {\n",
    "        'Green Roof (80/20)': ('Label_Diff_Green', 'Label_Before_8020'),\n",
    "        'Green Roof (65/35)': ('Label_Diff_Green_6535', 'Label_Before_6535'),\n",
    "        'Dry Green Roof (80/20)': ('Label_Diff_DryGreen', 'Label_Before_8020'),\n",
    "        'Dry Green Roof (65/35)': ('Label_Diff_DryGreen_6535', 'Label_Before_6535'),\n",
    "    }.items()\n",
    "}\n",
    "\n",
    "# Run summaries by primary use\n",
    "use_improvements = {\n",
    "    scenario: summarize_improvements_by(gdf_combined, diff_col, 'primary_use_most_restrictive')\n",
    "    for scenario, diff_col in {\n",
    "        'Green Roof (80/20)': 'Label_Diff_Green',\n",
    "        'Green Roof (65/35)': 'Label_Diff_Green_6535',\n",
    "        'Dry Green Roof (80/20)': 'Label_Diff_DryGreen',\n",
    "        'Dry Green Roof (65/35)': 'Label_Diff_DryGreen_6535',\n",
    "    }.items()\n",
    "}\n",
    "\n",
    "# Merge each scenario’s results into a single DataFrame for label and use\n",
    "label_improvements_df = pd.concat(label_improvements, axis=1)\n",
    "use_improvements_df = pd.concat(use_improvements, axis=1)\n",
    "\n",
    "# Round percentages\n",
    "label_improvements_df = label_improvements_df.round(4)\n",
    "use_improvements_df = use_improvements_df.round(4)\n",
    "\n",
    "# Display results\n",
    "display(label_improvements_df)\n",
    "display(use_improvements_df)\n"
   ]
  }
 ],
 "metadata": {
  "accelerator": "GPU",
  "colab": {
   "gpuType": "T4",
   "provenance": []
  },
  "kernelspec": {
   "display_name": "Python 3 (ipykernel)",
   "language": "python",
   "name": "python3"
  },
  "language_info": {
   "codemirror_mode": {
    "name": "ipython",
    "version": 3
   },
   "file_extension": ".py",
   "mimetype": "text/x-python",
   "name": "python",
   "nbconvert_exporter": "python",
   "pygments_lexer": "ipython3",
   "version": "3.12.4"
  }
 },
 "nbformat": 4,
 "nbformat_minor": 4
}
